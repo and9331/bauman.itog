{
 "cells": [
  {
   "cell_type": "code",
   "execution_count": 1,
   "id": "d1ab3ca9",
   "metadata": {},
   "outputs": [],
   "source": [
    "import pandas as pd\n",
    "from sklearn.preprocessing import StandardScaler\n",
    "from sklearn.model_selection import train_test_split\n",
    "from sklearn.linear_model import LinearRegression\n",
    "import numpy as np\n",
    "from sklearn.metrics import mean_squared_error, r2_score, mean_absolute_error\n",
    "import matplotlib.pyplot as plt"
   ]
  },
  {
   "cell_type": "code",
   "execution_count": 2,
   "id": "43a7e59b",
   "metadata": {},
   "outputs": [],
   "source": [
    "import pickle"
   ]
  },
  {
   "cell_type": "code",
   "execution_count": 3,
   "id": "2aa98e10",
   "metadata": {},
   "outputs": [],
   "source": [
    "data = pd.read_csv('ebw_data.csv')"
   ]
  },
  {
   "cell_type": "code",
   "execution_count": 4,
   "id": "a6a1d970",
   "metadata": {},
   "outputs": [
    {
     "data": {
      "text/html": [
       "<div>\n",
       "<style scoped>\n",
       "    .dataframe tbody tr th:only-of-type {\n",
       "        vertical-align: middle;\n",
       "    }\n",
       "\n",
       "    .dataframe tbody tr th {\n",
       "        vertical-align: top;\n",
       "    }\n",
       "\n",
       "    .dataframe thead th {\n",
       "        text-align: right;\n",
       "    }\n",
       "</style>\n",
       "<table border=\"1\" class=\"dataframe\">\n",
       "  <thead>\n",
       "    <tr style=\"text-align: right;\">\n",
       "      <th></th>\n",
       "      <th>IW</th>\n",
       "      <th>IF</th>\n",
       "      <th>VW</th>\n",
       "      <th>FP</th>\n",
       "      <th>Depth</th>\n",
       "      <th>Width</th>\n",
       "    </tr>\n",
       "  </thead>\n",
       "  <tbody>\n",
       "    <tr>\n",
       "      <th>0</th>\n",
       "      <td>47</td>\n",
       "      <td>139</td>\n",
       "      <td>4.5</td>\n",
       "      <td>80</td>\n",
       "      <td>1.60</td>\n",
       "      <td>2.54</td>\n",
       "    </tr>\n",
       "    <tr>\n",
       "      <th>1</th>\n",
       "      <td>47</td>\n",
       "      <td>139</td>\n",
       "      <td>4.5</td>\n",
       "      <td>80</td>\n",
       "      <td>1.62</td>\n",
       "      <td>2.50</td>\n",
       "    </tr>\n",
       "    <tr>\n",
       "      <th>2</th>\n",
       "      <td>47</td>\n",
       "      <td>139</td>\n",
       "      <td>4.5</td>\n",
       "      <td>80</td>\n",
       "      <td>1.68</td>\n",
       "      <td>2.60</td>\n",
       "    </tr>\n",
       "    <tr>\n",
       "      <th>3</th>\n",
       "      <td>47</td>\n",
       "      <td>139</td>\n",
       "      <td>4.5</td>\n",
       "      <td>80</td>\n",
       "      <td>1.58</td>\n",
       "      <td>2.52</td>\n",
       "    </tr>\n",
       "    <tr>\n",
       "      <th>4</th>\n",
       "      <td>45</td>\n",
       "      <td>140</td>\n",
       "      <td>4.5</td>\n",
       "      <td>80</td>\n",
       "      <td>1.76</td>\n",
       "      <td>2.48</td>\n",
       "    </tr>\n",
       "  </tbody>\n",
       "</table>\n",
       "</div>"
      ],
      "text/plain": [
       "   IW   IF   VW  FP  Depth  Width\n",
       "0  47  139  4.5  80   1.60   2.54\n",
       "1  47  139  4.5  80   1.62   2.50\n",
       "2  47  139  4.5  80   1.68   2.60\n",
       "3  47  139  4.5  80   1.58   2.52\n",
       "4  45  140  4.5  80   1.76   2.48"
      ]
     },
     "execution_count": 4,
     "metadata": {},
     "output_type": "execute_result"
    }
   ],
   "source": [
    "data.head(5)"
   ]
  },
  {
   "cell_type": "code",
   "execution_count": 5,
   "id": "d5e544e8",
   "metadata": {},
   "outputs": [
    {
     "data": {
      "text/html": [
       "<div>\n",
       "<style scoped>\n",
       "    .dataframe tbody tr th:only-of-type {\n",
       "        vertical-align: middle;\n",
       "    }\n",
       "\n",
       "    .dataframe tbody tr th {\n",
       "        vertical-align: top;\n",
       "    }\n",
       "\n",
       "    .dataframe thead th {\n",
       "        text-align: right;\n",
       "    }\n",
       "</style>\n",
       "<table border=\"1\" class=\"dataframe\">\n",
       "  <thead>\n",
       "    <tr style=\"text-align: right;\">\n",
       "      <th></th>\n",
       "      <th>IW</th>\n",
       "      <th>IF</th>\n",
       "      <th>VW</th>\n",
       "      <th>FP</th>\n",
       "      <th>Depth</th>\n",
       "      <th>Width</th>\n",
       "    </tr>\n",
       "  </thead>\n",
       "  <tbody>\n",
       "    <tr>\n",
       "      <th>count</th>\n",
       "      <td>72.000000</td>\n",
       "      <td>72.000000</td>\n",
       "      <td>72.000000</td>\n",
       "      <td>72.000000</td>\n",
       "      <td>72.000000</td>\n",
       "      <td>72.000000</td>\n",
       "    </tr>\n",
       "    <tr>\n",
       "      <th>mean</th>\n",
       "      <td>45.666667</td>\n",
       "      <td>141.333333</td>\n",
       "      <td>8.638889</td>\n",
       "      <td>78.333333</td>\n",
       "      <td>1.195556</td>\n",
       "      <td>1.970417</td>\n",
       "    </tr>\n",
       "    <tr>\n",
       "      <th>std</th>\n",
       "      <td>1.678363</td>\n",
       "      <td>5.145763</td>\n",
       "      <td>2.061078</td>\n",
       "      <td>21.493530</td>\n",
       "      <td>0.225081</td>\n",
       "      <td>0.279040</td>\n",
       "    </tr>\n",
       "    <tr>\n",
       "      <th>min</th>\n",
       "      <td>43.000000</td>\n",
       "      <td>131.000000</td>\n",
       "      <td>4.500000</td>\n",
       "      <td>50.000000</td>\n",
       "      <td>0.800000</td>\n",
       "      <td>1.680000</td>\n",
       "    </tr>\n",
       "    <tr>\n",
       "      <th>25%</th>\n",
       "      <td>44.000000</td>\n",
       "      <td>139.000000</td>\n",
       "      <td>8.000000</td>\n",
       "      <td>60.000000</td>\n",
       "      <td>1.080000</td>\n",
       "      <td>1.760000</td>\n",
       "    </tr>\n",
       "    <tr>\n",
       "      <th>50%</th>\n",
       "      <td>45.500000</td>\n",
       "      <td>141.000000</td>\n",
       "      <td>9.000000</td>\n",
       "      <td>80.000000</td>\n",
       "      <td>1.200000</td>\n",
       "      <td>1.840000</td>\n",
       "    </tr>\n",
       "    <tr>\n",
       "      <th>75%</th>\n",
       "      <td>47.000000</td>\n",
       "      <td>146.000000</td>\n",
       "      <td>10.000000</td>\n",
       "      <td>80.000000</td>\n",
       "      <td>1.290000</td>\n",
       "      <td>2.050000</td>\n",
       "    </tr>\n",
       "    <tr>\n",
       "      <th>max</th>\n",
       "      <td>49.000000</td>\n",
       "      <td>150.000000</td>\n",
       "      <td>12.000000</td>\n",
       "      <td>125.000000</td>\n",
       "      <td>1.760000</td>\n",
       "      <td>2.600000</td>\n",
       "    </tr>\n",
       "  </tbody>\n",
       "</table>\n",
       "</div>"
      ],
      "text/plain": [
       "              IW          IF         VW          FP      Depth      Width\n",
       "count  72.000000   72.000000  72.000000   72.000000  72.000000  72.000000\n",
       "mean   45.666667  141.333333   8.638889   78.333333   1.195556   1.970417\n",
       "std     1.678363    5.145763   2.061078   21.493530   0.225081   0.279040\n",
       "min    43.000000  131.000000   4.500000   50.000000   0.800000   1.680000\n",
       "25%    44.000000  139.000000   8.000000   60.000000   1.080000   1.760000\n",
       "50%    45.500000  141.000000   9.000000   80.000000   1.200000   1.840000\n",
       "75%    47.000000  146.000000  10.000000   80.000000   1.290000   2.050000\n",
       "max    49.000000  150.000000  12.000000  125.000000   1.760000   2.600000"
      ]
     },
     "execution_count": 5,
     "metadata": {},
     "output_type": "execute_result"
    }
   ],
   "source": [
    "data.describe()"
   ]
  },
  {
   "cell_type": "code",
   "execution_count": 6,
   "id": "ac06be72",
   "metadata": {},
   "outputs": [
    {
     "data": {
      "text/html": [
       "<div>\n",
       "<style scoped>\n",
       "    .dataframe tbody tr th:only-of-type {\n",
       "        vertical-align: middle;\n",
       "    }\n",
       "\n",
       "    .dataframe tbody tr th {\n",
       "        vertical-align: top;\n",
       "    }\n",
       "\n",
       "    .dataframe thead th {\n",
       "        text-align: right;\n",
       "    }\n",
       "</style>\n",
       "<table border=\"1\" class=\"dataframe\">\n",
       "  <thead>\n",
       "    <tr style=\"text-align: right;\">\n",
       "      <th></th>\n",
       "      <th>IW</th>\n",
       "      <th>IF</th>\n",
       "      <th>VW</th>\n",
       "      <th>FP</th>\n",
       "      <th>Depth</th>\n",
       "      <th>Width</th>\n",
       "    </tr>\n",
       "  </thead>\n",
       "  <tbody>\n",
       "    <tr>\n",
       "      <th>IW</th>\n",
       "      <td>1.000000</td>\n",
       "      <td>-0.861073</td>\n",
       "      <td>-0.043430</td>\n",
       "      <td>0.835530</td>\n",
       "      <td>-0.289568</td>\n",
       "      <td>0.434869</td>\n",
       "    </tr>\n",
       "    <tr>\n",
       "      <th>IF</th>\n",
       "      <td>-0.861073</td>\n",
       "      <td>1.000000</td>\n",
       "      <td>0.115093</td>\n",
       "      <td>-0.980562</td>\n",
       "      <td>0.376084</td>\n",
       "      <td>-0.510167</td>\n",
       "    </tr>\n",
       "    <tr>\n",
       "      <th>VW</th>\n",
       "      <td>-0.043430</td>\n",
       "      <td>0.115093</td>\n",
       "      <td>1.000000</td>\n",
       "      <td>-0.001060</td>\n",
       "      <td>-0.671437</td>\n",
       "      <td>-0.874257</td>\n",
       "    </tr>\n",
       "    <tr>\n",
       "      <th>FP</th>\n",
       "      <td>0.835530</td>\n",
       "      <td>-0.980562</td>\n",
       "      <td>-0.001060</td>\n",
       "      <td>1.000000</td>\n",
       "      <td>-0.510748</td>\n",
       "      <td>0.412962</td>\n",
       "    </tr>\n",
       "    <tr>\n",
       "      <th>Depth</th>\n",
       "      <td>-0.289568</td>\n",
       "      <td>0.376084</td>\n",
       "      <td>-0.671437</td>\n",
       "      <td>-0.510748</td>\n",
       "      <td>1.000000</td>\n",
       "      <td>0.425391</td>\n",
       "    </tr>\n",
       "    <tr>\n",
       "      <th>Width</th>\n",
       "      <td>0.434869</td>\n",
       "      <td>-0.510167</td>\n",
       "      <td>-0.874257</td>\n",
       "      <td>0.412962</td>\n",
       "      <td>0.425391</td>\n",
       "      <td>1.000000</td>\n",
       "    </tr>\n",
       "  </tbody>\n",
       "</table>\n",
       "</div>"
      ],
      "text/plain": [
       "             IW        IF        VW        FP     Depth     Width\n",
       "IW     1.000000 -0.861073 -0.043430  0.835530 -0.289568  0.434869\n",
       "IF    -0.861073  1.000000  0.115093 -0.980562  0.376084 -0.510167\n",
       "VW    -0.043430  0.115093  1.000000 -0.001060 -0.671437 -0.874257\n",
       "FP     0.835530 -0.980562 -0.001060  1.000000 -0.510748  0.412962\n",
       "Depth -0.289568  0.376084 -0.671437 -0.510748  1.000000  0.425391\n",
       "Width  0.434869 -0.510167 -0.874257  0.412962  0.425391  1.000000"
      ]
     },
     "execution_count": 6,
     "metadata": {},
     "output_type": "execute_result"
    }
   ],
   "source": [
    "data.corr()"
   ]
  },
  {
   "cell_type": "code",
   "execution_count": 7,
   "id": "22d1147e",
   "metadata": {},
   "outputs": [],
   "source": [
    "y = np.array(data[['Depth', 'Width']])"
   ]
  },
  {
   "cell_type": "code",
   "execution_count": 8,
   "id": "7538f6a8",
   "metadata": {},
   "outputs": [
    {
     "data": {
      "text/plain": [
       "array([[1.6 , 2.54],\n",
       "       [1.62, 2.5 ],\n",
       "       [1.68, 2.6 ],\n",
       "       [1.58, 2.52],\n",
       "       [1.76, 2.48]])"
      ]
     },
     "execution_count": 8,
     "metadata": {},
     "output_type": "execute_result"
    }
   ],
   "source": [
    "y[:5]"
   ]
  },
  {
   "cell_type": "code",
   "execution_count": 9,
   "id": "96ba8f67",
   "metadata": {},
   "outputs": [],
   "source": [
    "X = np.array(data[['IW','IF','VW','FP']])"
   ]
  },
  {
   "cell_type": "code",
   "execution_count": 10,
   "id": "83beb47f",
   "metadata": {},
   "outputs": [
    {
     "data": {
      "text/plain": [
       "array([[ 47. , 139. ,   4.5,  80. ],\n",
       "       [ 47. , 139. ,   4.5,  80. ],\n",
       "       [ 47. , 139. ,   4.5,  80. ],\n",
       "       [ 47. , 139. ,   4.5,  80. ],\n",
       "       [ 45. , 140. ,   4.5,  80. ]])"
      ]
     },
     "execution_count": 10,
     "metadata": {},
     "output_type": "execute_result"
    }
   ],
   "source": [
    "X[:5]"
   ]
  },
  {
   "cell_type": "code",
   "execution_count": 11,
   "id": "a432b03a",
   "metadata": {},
   "outputs": [],
   "source": [
    "scaler = StandardScaler().fit(X)"
   ]
  },
  {
   "cell_type": "code",
   "execution_count": 12,
   "id": "a43cc127",
   "metadata": {},
   "outputs": [],
   "source": [
    "pickle.dump(scaler, open('scaler.pkl', 'wb'))"
   ]
  },
  {
   "cell_type": "code",
   "execution_count": 13,
   "id": "2a979e97",
   "metadata": {},
   "outputs": [],
   "source": [
    "X_scaled = scaler.transform(X)"
   ]
  },
  {
   "cell_type": "code",
   "execution_count": 14,
   "id": "81d0ad29",
   "metadata": {},
   "outputs": [
    {
     "data": {
      "text/plain": [
       "array([[ 0.8       , -0.45662965, -2.02221044,  0.07808688],\n",
       "       [ 0.8       , -0.45662965, -2.02221044,  0.07808688],\n",
       "       [ 0.8       , -0.45662965, -2.02221044,  0.07808688],\n",
       "       [ 0.8       , -0.45662965, -2.02221044,  0.07808688],\n",
       "       [-0.4       , -0.26093123, -2.02221044,  0.07808688]])"
      ]
     },
     "execution_count": 14,
     "metadata": {},
     "output_type": "execute_result"
    }
   ],
   "source": [
    "X_scaled[:5]"
   ]
  },
  {
   "cell_type": "code",
   "execution_count": 15,
   "id": "f90bc8c4",
   "metadata": {},
   "outputs": [],
   "source": [
    "X_train, X_test, y_train, y_test = train_test_split(X_scaled, y, test_size=0.2, shuffle=True)"
   ]
  },
  {
   "cell_type": "code",
   "execution_count": 16,
   "id": "3826c651",
   "metadata": {},
   "outputs": [],
   "source": [
    "linear_model = LinearRegression().fit(X_train, y_train)"
   ]
  },
  {
   "cell_type": "code",
   "execution_count": 17,
   "id": "2b45a237",
   "metadata": {},
   "outputs": [],
   "source": [
    "pickle.dump(linear_model, open('linear_model.pkl', 'wb'))"
   ]
  },
  {
   "cell_type": "code",
   "execution_count": 18,
   "id": "11d43f33",
   "metadata": {},
   "outputs": [],
   "source": [
    "y_pred = linear_model.predict(X_test)"
   ]
  },
  {
   "cell_type": "code",
   "execution_count": 19,
   "id": "0e1fa950",
   "metadata": {},
   "outputs": [
    {
     "data": {
      "text/plain": [
       "array([[1.17067059, 1.75734382],\n",
       "       [0.88049778, 2.32016028],\n",
       "       [1.21633095, 1.88023529],\n",
       "       [1.21633095, 1.88023529],\n",
       "       [1.264694  , 1.86208295],\n",
       "       [0.88049778, 2.32016028],\n",
       "       [1.21633095, 1.88023529],\n",
       "       [1.264694  , 1.86208295],\n",
       "       [1.264694  , 1.86208295],\n",
       "       [1.56844254, 2.51704106],\n",
       "       [1.27511489, 2.03573655],\n",
       "       [1.2429573 , 1.82398554],\n",
       "       [1.2429573 , 1.82398554],\n",
       "       [0.9425576 , 1.96801903],\n",
       "       [1.2429573 , 1.82398554]])"
      ]
     },
     "execution_count": 19,
     "metadata": {},
     "output_type": "execute_result"
    }
   ],
   "source": [
    "y_pred"
   ]
  },
  {
   "cell_type": "code",
   "execution_count": 20,
   "id": "8eb8f07d",
   "metadata": {},
   "outputs": [
    {
     "data": {
      "text/plain": [
       "array([[1.08, 1.82],\n",
       "       [0.8 , 2.24],\n",
       "       [1.12, 1.8 ],\n",
       "       [1.12, 1.76],\n",
       "       [1.32, 1.76],\n",
       "       [0.84, 2.28],\n",
       "       [1.18, 1.78],\n",
       "       [1.36, 1.76],\n",
       "       [1.28, 1.76],\n",
       "       [1.62, 2.5 ],\n",
       "       [1.2 , 1.96],\n",
       "       [1.2 , 1.76],\n",
       "       [1.2 , 1.86],\n",
       "       [0.96, 1.94],\n",
       "       [1.2 , 1.76]])"
      ]
     },
     "execution_count": 20,
     "metadata": {},
     "output_type": "execute_result"
    }
   ],
   "source": [
    "y_test"
   ]
  },
  {
   "cell_type": "code",
   "execution_count": 21,
   "id": "578be877",
   "metadata": {},
   "outputs": [
    {
     "data": {
      "text/plain": [
       "0.005106751313056308"
      ]
     },
     "execution_count": 21,
     "metadata": {},
     "output_type": "execute_result"
    }
   ],
   "source": [
    "mean_squared_error(y_test, y_pred)"
   ]
  },
  {
   "cell_type": "code",
   "execution_count": 22,
   "id": "fcbdaa5e",
   "metadata": {},
   "outputs": [
    {
     "data": {
      "text/plain": [
       "0.06514257690963039"
      ]
     },
     "execution_count": 22,
     "metadata": {},
     "output_type": "execute_result"
    }
   ],
   "source": [
    "mean_absolute_error(y_test, y_pred)"
   ]
  },
  {
   "cell_type": "code",
   "execution_count": 23,
   "id": "8abc86aa",
   "metadata": {},
   "outputs": [
    {
     "data": {
      "text/plain": [
       "0.8872362234085032"
      ]
     },
     "execution_count": 23,
     "metadata": {},
     "output_type": "execute_result"
    }
   ],
   "source": [
    "r2_score(y_test, y_pred)"
   ]
  },
  {
   "cell_type": "code",
   "execution_count": 25,
   "id": "52277c44",
   "metadata": {},
   "outputs": [],
   "source": [
    "y_depth = y[:,0]"
   ]
  },
  {
   "cell_type": "code",
   "execution_count": 26,
   "id": "873a7386",
   "metadata": {},
   "outputs": [
    {
     "data": {
      "text/plain": [
       "array([1.6 , 1.62, 1.68, 1.58, 1.76, 1.72, 1.64, 1.64, 1.2 , 1.2 , 1.16,\n",
       "       1.2 , 0.98, 1.02, 1.04, 1.  , 1.2 , 1.  , 1.2 , 1.16, 1.12, 1.08,\n",
       "       1.2 , 1.08, 0.96, 0.96, 0.92, 0.94, 1.36, 1.36, 1.4 , 1.36, 0.84,\n",
       "       0.86, 0.88, 0.8 , 0.84, 0.84, 0.8 , 0.8 , 1.12, 1.22, 1.12, 1.18,\n",
       "       1.28, 1.36, 1.36, 1.24, 1.28, 1.32, 1.24, 1.32, 1.08, 1.08, 1.08,\n",
       "       1.08, 1.2 , 1.2 , 1.2 , 1.2 , 1.2 , 1.24, 1.2 , 1.24, 1.16, 1.2 ,\n",
       "       1.24, 1.2 , 1.36, 1.28, 1.28, 1.32])"
      ]
     },
     "execution_count": 26,
     "metadata": {},
     "output_type": "execute_result"
    }
   ],
   "source": [
    "y_depth"
   ]
  },
  {
   "cell_type": "code",
   "execution_count": 27,
   "id": "079c49cb",
   "metadata": {},
   "outputs": [],
   "source": [
    "y_width = y[:, 1]"
   ]
  },
  {
   "cell_type": "code",
   "execution_count": 28,
   "id": "43b77946",
   "metadata": {},
   "outputs": [
    {
     "data": {
      "text/plain": [
       "array([2.54, 2.5 , 2.6 , 2.52, 2.48, 2.48, 2.52, 2.56, 2.  , 1.96, 1.96,\n",
       "       1.96, 1.84, 1.84, 1.9 , 1.86, 1.78, 1.84, 1.86, 1.8 , 1.71, 1.68,\n",
       "       1.8 , 1.72, 2.  , 1.94, 1.86, 1.94, 2.52, 2.48, 2.48, 2.48, 2.16,\n",
       "       2.08, 2.  , 2.04, 2.28, 2.24, 2.24, 2.28, 1.76, 1.82, 1.8 , 1.78,\n",
       "       1.8 , 1.76, 1.76, 1.76, 1.8 , 1.84, 1.8 , 1.96, 1.8 , 1.82, 1.82,\n",
       "       1.82, 1.76, 1.86, 1.88, 1.76, 1.76, 1.8 , 1.72, 1.78, 1.76, 1.68,\n",
       "       1.72, 1.72, 1.76, 1.76, 1.76, 1.76])"
      ]
     },
     "execution_count": 28,
     "metadata": {},
     "output_type": "execute_result"
    }
   ],
   "source": [
    "y_width"
   ]
  },
  {
   "cell_type": "code",
   "execution_count": 321,
   "id": "fe6064c0",
   "metadata": {},
   "outputs": [],
   "source": [
    "X_train_depth, X_test_depth, y_train_depth, y_test_depth = train_test_split(X_scaled, y_depth, test_size=0.2, shuffle=True)"
   ]
  },
  {
   "cell_type": "code",
   "execution_count": 322,
   "id": "e99dc2f7",
   "metadata": {},
   "outputs": [],
   "source": [
    "X_train_width, X_test_width, y_train_width, y_test_width = train_test_split(X_scaled, y_width, test_size=0.2, shuffle=True)"
   ]
  },
  {
   "cell_type": "code",
   "execution_count": 323,
   "id": "a5beee50",
   "metadata": {},
   "outputs": [],
   "source": [
    "depthLinModel = LinearRegression().fit(X_train_depth, y_train_depth)"
   ]
  },
  {
   "cell_type": "code",
   "execution_count": 324,
   "id": "c36e8ca1",
   "metadata": {},
   "outputs": [],
   "source": [
    "widthLinMocel = LinearRegression().fit(X_train_width, y_train_width)"
   ]
  },
  {
   "cell_type": "code",
   "execution_count": 325,
   "id": "c559fed6",
   "metadata": {},
   "outputs": [],
   "source": [
    "depth_pred = depthLinModel.predict(X_test_depth)"
   ]
  },
  {
   "cell_type": "code",
   "execution_count": 326,
   "id": "20e208ca",
   "metadata": {},
   "outputs": [],
   "source": [
    "width_pred = widthLinMocel.predict(X_test_width)"
   ]
  },
  {
   "cell_type": "code",
   "execution_count": 327,
   "id": "a651657f",
   "metadata": {},
   "outputs": [
    {
     "data": {
      "text/plain": [
       "(array([1.21357392, 1.58824903, 1.2213787 , 1.24298575, 1.24298575,\n",
       "        1.23237354, 1.25359796, 1.58824903, 1.24298575, 1.30142678,\n",
       "        0.95205475, 1.11178334, 1.30142678, 1.2213787 , 1.24298575]),\n",
       " array([1.36, 1.62, 1.22, 1.16, 1.2 , 1.2 , 1.32, 1.36, 1.32, 1.16, 0.94,\n",
       "        0.98, 1.2 , 1.12, 1.28]))"
      ]
     },
     "execution_count": 327,
     "metadata": {},
     "output_type": "execute_result"
    }
   ],
   "source": [
    "depth_pred, y_test_depth"
   ]
  },
  {
   "cell_type": "code",
   "execution_count": 328,
   "id": "a64eb9bd",
   "metadata": {},
   "outputs": [
    {
     "data": {
      "text/plain": [
       "(array([1.76405357, 2.43730915, 2.49673426, 1.81647117, 1.82629905,\n",
       "        2.04016959, 2.49673426, 1.84938219, 2.31595685, 1.81647117,\n",
       "        1.81647117, 1.62273078, 1.81647117, 2.49673426, 2.43730915]),\n",
       " array([1.76, 2.48, 2.48, 1.76, 1.84, 2.  , 2.48, 1.76, 2.28, 1.96, 1.68,\n",
       "        1.72, 1.8 , 2.48, 2.56]))"
      ]
     },
     "execution_count": 328,
     "metadata": {},
     "output_type": "execute_result"
    }
   ],
   "source": [
    "width_pred, y_test_width"
   ]
  },
  {
   "cell_type": "code",
   "execution_count": 329,
   "id": "aa073d30",
   "metadata": {},
   "outputs": [
    {
     "data": {
      "text/plain": [
       "(0.5501547025450274, 0.9473022458237828)"
      ]
     },
     "execution_count": 329,
     "metadata": {},
     "output_type": "execute_result"
    }
   ],
   "source": [
    "r2_score(depth_pred, y_test_depth), r2_score(width_pred, y_test_width)"
   ]
  },
  {
   "cell_type": "code",
   "execution_count": 24,
   "id": "5aff8aee",
   "metadata": {},
   "outputs": [],
   "source": [
    "# нейросетОЧКА\n",
    "import tensorflow as tf"
   ]
  },
  {
   "cell_type": "code",
   "execution_count": 25,
   "id": "4327c386",
   "metadata": {},
   "outputs": [],
   "source": [
    "NN_model = tf.keras.models.Sequential([\n",
    "    tf.keras.layers.Dense(units=64, activation='relu'),\n",
    "    tf.keras.layers.Dense(units=100, activation='sigmoid'),\n",
    "    tf.keras.layers.Dense(units=2)\n",
    "])\n",
    "\n",
    "NN_model.compile(loss=tf.keras.losses.mean_absolute_error,\n",
    "                optimizer=tf.keras.optimizers.Adam(0.001),\n",
    "                metrics=['accuracy'])\n"
   ]
  },
  {
   "cell_type": "code",
   "execution_count": 26,
   "id": "c33d54b6",
   "metadata": {},
   "outputs": [],
   "source": [
    "history = NN_model.fit(\n",
    "    X_scaled,\n",
    "    y,\n",
    "    epochs=200,\n",
    "    verbose=0,\n",
    "    validation_data=(X_test,y_test)\n",
    ")"
   ]
  },
  {
   "cell_type": "code",
   "execution_count": 27,
   "id": "7bfcb016",
   "metadata": {},
   "outputs": [
    {
     "data": {
      "image/png": "[encoded data removed]",
      "text/plain": [
       "<Figure size 432x288 with 1 Axes>"
      ]
     },
     "metadata": {
      "needs_background": "light"
     },
     "output_type": "display_data"
    }
   ],
   "source": [
    "# визуализация`\n",
    "plt.title('Обучение')\n",
    "plt.xlabel('epochs')\n",
    "plt.ylabel('Cross_entropy')\n",
    "plt.plot(history.history['loss'], label='train')\n",
    "plt.plot(history.history['val_loss'], label='validation')\n",
    "plt.legend()\n",
    "plt.show()"
   ]
  },
  {
   "cell_type": "code",
   "execution_count": 28,
   "id": "7bdf93a2",
   "metadata": {},
   "outputs": [
    {
     "name": "stdout",
     "output_type": "stream",
     "text": [
      "1/1 [==============================] - 0s 93ms/step\n"
     ]
    }
   ],
   "source": [
    "y_pred = NN_model.predict(X_test)"
   ]
  },
  {
   "cell_type": "code",
   "execution_count": 29,
   "id": "216726aa",
   "metadata": {},
   "outputs": [
    {
     "data": {
      "text/plain": [
       "array([[1.1679316 , 1.7957197 ],\n",
       "       [0.8501172 , 2.2568154 ],\n",
       "       [1.187828  , 1.7829438 ],\n",
       "       [1.187828  , 1.7829438 ],\n",
       "       [1.3143833 , 1.7619566 ],\n",
       "       [0.8501172 , 2.2568154 ],\n",
       "       [1.187828  , 1.7829438 ],\n",
       "       [1.3143833 , 1.7619566 ],\n",
       "       [1.3143833 , 1.7619566 ],\n",
       "       [1.5698545 , 2.4860506 ],\n",
       "       [1.2307243 , 1.9573311 ],\n",
       "       [1.214016  , 1.7646395 ],\n",
       "       [1.214016  , 1.7646395 ],\n",
       "       [0.96833426, 1.9425948 ],\n",
       "       [1.214016  , 1.7646395 ]], dtype=float32)"
      ]
     },
     "execution_count": 29,
     "metadata": {},
     "output_type": "execute_result"
    }
   ],
   "source": [
    "y_pred"
   ]
  },
  {
   "cell_type": "code",
   "execution_count": 30,
   "id": "08794b53",
   "metadata": {},
   "outputs": [
    {
     "data": {
      "text/plain": [
       "array([[1.08, 1.82],\n",
       "       [0.8 , 2.24],\n",
       "       [1.12, 1.8 ],\n",
       "       [1.12, 1.76],\n",
       "       [1.32, 1.76],\n",
       "       [0.84, 2.28],\n",
       "       [1.18, 1.78],\n",
       "       [1.36, 1.76],\n",
       "       [1.28, 1.76],\n",
       "       [1.62, 2.5 ],\n",
       "       [1.2 , 1.96],\n",
       "       [1.2 , 1.76],\n",
       "       [1.2 , 1.86],\n",
       "       [0.96, 1.94],\n",
       "       [1.2 , 1.76]])"
      ]
     },
     "execution_count": 30,
     "metadata": {},
     "output_type": "execute_result"
    }
   ],
   "source": [
    "y_test"
   ]
  },
  {
   "cell_type": "code",
   "execution_count": 31,
   "id": "2390d6ad",
   "metadata": {},
   "outputs": [
    {
     "data": {
      "text/plain": [
       "(0.02484883093833923, 0.9691749716043132)"
      ]
     },
     "execution_count": 31,
     "metadata": {},
     "output_type": "execute_result"
    }
   ],
   "source": [
    "mean_absolute_error(y_test, y_pred), r2_score(y_test, y_pred)"
   ]
  },
  {
   "cell_type": "code",
   "execution_count": 32,
   "id": "183c6fa1",
   "metadata": {},
   "outputs": [
    {
     "data": {
      "text/plain": [
       "array([[ 0.2       , -0.06523281,  0.66502222,  0.07808688]])"
      ]
     },
     "execution_count": 32,
     "metadata": {},
     "output_type": "execute_result"
    }
   ],
   "source": [
    "scaler.transform(np.array([[46., 141., 10.0, 80.]]))"
   ]
  },
  {
   "cell_type": "code",
   "execution_count": 33,
   "id": "a2b09fab",
   "metadata": {},
   "outputs": [
    {
     "data": {
      "text/plain": [
       "(array([ 0.2       , -0.06523281,  0.66502222,  0.07808688]),\n",
       " array([1.16, 1.8 ]))"
      ]
     },
     "execution_count": 33,
     "metadata": {},
     "output_type": "execute_result"
    }
   ],
   "source": [
    "X_scaled[19], y[19]"
   ]
  },
  {
   "cell_type": "code",
   "execution_count": 34,
   "id": "22b3d2c0",
   "metadata": {},
   "outputs": [
    {
     "name": "stdout",
     "output_type": "stream",
     "text": [
      "1/1 [==============================] - 0s 22ms/step\n"
     ]
    },
    {
     "data": {
      "text/plain": [
       "array([[1.144333 , 1.7968535]], dtype=float32)"
      ]
     },
     "execution_count": 34,
     "metadata": {},
     "output_type": "execute_result"
    }
   ],
   "source": [
    "NN_model.predict(scaler.transform(np.array([[46., 141., 10.0, 80.]])))"
   ]
  },
  {
   "cell_type": "code",
   "execution_count": 35,
   "id": "8e4c44b7",
   "metadata": {},
   "outputs": [
    {
     "name": "stdout",
     "output_type": "stream",
     "text": [
      "1/1 [==============================] - 0s 24ms/step\n"
     ]
    },
    {
     "data": {
      "text/plain": [
       "array([[0.9683344, 1.942595 ]], dtype=float32)"
      ]
     },
     "execution_count": 35,
     "metadata": {},
     "output_type": "execute_result"
    }
   ],
   "source": [
    "NN_model.predict(scaler.transform(np.array([[47., 134., 10.0, 110.]])))"
   ]
  },
  {
   "cell_type": "code",
   "execution_count": 36,
   "id": "e6e1d065",
   "metadata": {},
   "outputs": [
    {
     "data": {
      "text/plain": [
       "(array([ 0.8       , -1.43512176,  0.66502222,  1.48365074]),\n",
       " array([0.94, 1.94]))"
      ]
     },
     "execution_count": 36,
     "metadata": {},
     "output_type": "execute_result"
    }
   ],
   "source": [
    "X_scaled[27], y[27]"
   ]
  },
  {
   "cell_type": "code",
   "execution_count": 37,
   "id": "c0630a45",
   "metadata": {},
   "outputs": [
    {
     "name": "stdout",
     "output_type": "stream",
     "text": [
      "INFO:tensorflow:Assets written to: nn_model\\assets\n"
     ]
    }
   ],
   "source": [
    "NN_model.save('nn_model')"
   ]
  },
  {
   "cell_type": "code",
   "execution_count": 38,
   "id": "3c56bb09",
   "metadata": {},
   "outputs": [],
   "source": [
    "loaded_model = tf.keras.models.load_model('nn_model')"
   ]
  },
  {
   "cell_type": "code",
   "execution_count": 39,
   "id": "c261ffc3",
   "metadata": {},
   "outputs": [
    {
     "name": "stdout",
     "output_type": "stream",
     "text": [
      "1/1 [==============================] - 0s 192ms/step\n"
     ]
    },
    {
     "data": {
      "text/plain": [
       "array([[0.9683344, 1.942595 ]], dtype=float32)"
      ]
     },
     "execution_count": 39,
     "metadata": {},
     "output_type": "execute_result"
    }
   ],
   "source": [
    "loaded_model.predict(scaler.transform(np.array([[47., 134., 10.0, 110.]])))"
   ]
  },
  {
   "cell_type": "code",
   "execution_count": 40,
   "id": "00ef0815",
   "metadata": {},
   "outputs": [],
   "source": [
    "from sklearn.ensemble import RandomForestRegressor"
   ]
  },
  {
   "cell_type": "code",
   "execution_count": 41,
   "id": "fe290c9d",
   "metadata": {},
   "outputs": [],
   "source": [
    "forest_model = RandomForestRegressor()"
   ]
  },
  {
   "cell_type": "code",
   "execution_count": 42,
   "id": "4d297565",
   "metadata": {},
   "outputs": [
    {
     "data": {
      "text/plain": [
       "RandomForestRegressor()"
      ]
     },
     "execution_count": 42,
     "metadata": {},
     "output_type": "execute_result"
    }
   ],
   "source": [
    "forest_model.fit(X_train, y_train)"
   ]
  },
  {
   "cell_type": "code",
   "execution_count": 47,
   "id": "efefd890",
   "metadata": {},
   "outputs": [],
   "source": [
    "pickle.dump(forest_model, open('forest_model.pkl', 'wb'))"
   ]
  },
  {
   "cell_type": "code",
   "execution_count": 43,
   "id": "31c194d2",
   "metadata": {},
   "outputs": [],
   "source": [
    "y_pred = forest_model.predict(X_test)"
   ]
  },
  {
   "cell_type": "code",
   "execution_count": 44,
   "id": "cba75538",
   "metadata": {},
   "outputs": [
    {
     "data": {
      "text/plain": [
       "array([[1.0829697 , 1.81137052],\n",
       "       [0.82540667, 2.23340667],\n",
       "       [1.19535333, 1.83332611],\n",
       "       [1.19535333, 1.83332611],\n",
       "       [1.26327906, 1.77378789],\n",
       "       [0.82540667, 2.23340667],\n",
       "       [1.19535333, 1.83332611],\n",
       "       [1.26327906, 1.77378789],\n",
       "       [1.26327906, 1.77378789],\n",
       "       [1.48159483, 2.51935084],\n",
       "       [1.17786381, 1.96805825],\n",
       "       [1.23931954, 1.79351956],\n",
       "       [1.23931954, 1.79351956],\n",
       "       [0.93457619, 1.94984714],\n",
       "       [1.23931954, 1.79351956]])"
      ]
     },
     "execution_count": 44,
     "metadata": {},
     "output_type": "execute_result"
    }
   ],
   "source": [
    "y_pred"
   ]
  },
  {
   "cell_type": "code",
   "execution_count": 45,
   "id": "ba795cdd",
   "metadata": {},
   "outputs": [
    {
     "data": {
      "text/plain": [
       "array([[1.08, 1.82],\n",
       "       [0.8 , 2.24],\n",
       "       [1.12, 1.8 ],\n",
       "       [1.12, 1.76],\n",
       "       [1.32, 1.76],\n",
       "       [0.84, 2.28],\n",
       "       [1.18, 1.78],\n",
       "       [1.36, 1.76],\n",
       "       [1.28, 1.76],\n",
       "       [1.62, 2.5 ],\n",
       "       [1.2 , 1.96],\n",
       "       [1.2 , 1.76],\n",
       "       [1.2 , 1.86],\n",
       "       [0.96, 1.94],\n",
       "       [1.2 , 1.76]])"
      ]
     },
     "execution_count": 45,
     "metadata": {},
     "output_type": "execute_result"
    }
   ],
   "source": [
    "y_test"
   ]
  },
  {
   "cell_type": "code",
   "execution_count": 46,
   "id": "979cfc5a",
   "metadata": {},
   "outputs": [
    {
     "data": {
      "text/plain": [
       "0.9290104584657077"
      ]
     },
     "execution_count": 46,
     "metadata": {},
     "output_type": "execute_result"
    }
   ],
   "source": [
    "r2_score(y_pred, y_test)"
   ]
  },
  {
   "cell_type": "code",
   "execution_count": 91,
   "id": "3f97b6ff",
   "metadata": {},
   "outputs": [],
   "source": [
    "from sklearn.linear_model import Ridge"
   ]
  },
  {
   "cell_type": "code",
   "execution_count": 105,
   "id": "c5f26d97",
   "metadata": {},
   "outputs": [],
   "source": [
    "alphas = []\n",
    "r2s = []\n",
    "\n",
    "for i in np.arange(0.0001, 10.0, 0.0001):\n",
    "    alphas.append(i)\n",
    "    model = Ridge(alpha=i)\n",
    "    model.fit(X_train, y_train)\n",
    "    r2s.append(r2_score(model.predict(X_test), y_test))"
   ]
  },
  {
   "cell_type": "code",
   "execution_count": 106,
   "id": "e2efa671",
   "metadata": {},
   "outputs": [
    {
     "data": {
      "text/plain": [
       "0"
      ]
     },
     "execution_count": 106,
     "metadata": {},
     "output_type": "execute_result"
    }
   ],
   "source": [
    "np.argmax(r2s)"
   ]
  },
  {
   "cell_type": "code",
   "execution_count": 107,
   "id": "f9aae2df",
   "metadata": {},
   "outputs": [
    {
     "data": {
      "text/plain": [
       "[0.8640637537821696,\n",
       " 0.8640507395845329,\n",
       " 0.8640377186008433,\n",
       " 0.8640246908384877,\n",
       " 0.8640116563048448]"
      ]
     },
     "execution_count": 107,
     "metadata": {},
     "output_type": "execute_result"
    }
   ],
   "source": [
    "np.max(r2s)\n",
    "r2s[:5]"
   ]
  }
 ],
 "metadata": {
  "kernelspec": {
   "display_name": "Python 3.9.12 ('base')",
   "language": "python",
   "name": "python3"
  },
  "language_info": {
   "codemirror_mode": {
    "name": "ipython",
    "version": 3
   },
   "file_extension": ".py",
   "mimetype": "text/x-python",
   "name": "python",
   "nbconvert_exporter": "python",
   "pygments_lexer": "ipython3",
   "version": "3.9.12"
  },
  "vscode": {
   "interpreter": {
    "hash": "ad2bdc8ecc057115af97d19610ffacc2b4e99fae6737bb82f5d7fb13d2f2c186"
   }
  }
 },
 "nbformat": 4,
 "nbformat_minor": 5
}
