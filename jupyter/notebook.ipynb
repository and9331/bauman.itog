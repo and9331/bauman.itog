{
 "cells": [
  {
   "cell_type": "markdown",
   "id": "7079bb4b",
   "metadata": {},
   "source": [
    "## Импорт / import"
   ]
  },
  {
   "cell_type": "markdown",
   "id": "f5251a97",
   "metadata": {},
   "source": [
    "Необходимые библитеки и модули:\n",
    "<br>\n",
    "pandas - для загрузки датасета, исследование и предварительного анализа\n",
    "<br>\n",
    "numpy - для работы с массивами и тензорами\n",
    "<br>\n",
    "pickle - для сохранения объектов моделей в файл\n",
    "<br>\n",
    "maptplotlib.pyplot, seaborn - для построения графиков, визуализации\n",
    "<br>\n",
    "sklearn - основная библитека машинного обучения\n",
    "<br>\n",
    "<br>\n",
    "из нее применяются:\n",
    "<br>\n",
    "<br>\n",
    "StandartScaler - для масштабирования входных параметров\n",
    "<br>\n",
    "train_test_split - для разделения выборки на тренировочную и тестовую\n",
    "<br>\n",
    "LinearRegression - простая модель линейной регрессии\n",
    "<br>\n",
    "RandomForestRegressor - анасамбль случайный лес из решающих деревьев\n",
    "<br>\n",
    "mean_squared_error - среднеквадратичная ошибка\n",
    "<br>\n",
    "r2_score - коэффициент детерминации\n",
    "<br>\n",
    "mean_absolute_error - средняя абсолютная ошибка\n",
    "\n",
    "<br>\n",
    "<br>\n",
    "tensorflow - одна из основных библиотек разработки нейронных сетей, в данной работе используется tensorflow.keras"
   ]
  },
  {
   "cell_type": "code",
   "execution_count": 98,
   "id": "d1ab3ca9",
   "metadata": {},
   "outputs": [],
   "source": [
    "import pandas as pd\n",
    "import numpy as np\n",
    "import pickle\n",
    "import matplotlib.pyplot as plt\n",
    "import seaborn as sns\n",
    "\n",
    "%matplotlib inline\n",
    "\n",
    "from sklearn.preprocessing import StandardScaler\n",
    "from sklearn.model_selection import train_test_split\n",
    "from sklearn.linear_model import LinearRegression\n",
    "from sklearn.metrics import mean_squared_error, r2_score, mean_absolute_error\n",
    "from sklearn.ensemble import RandomForestRegressor\n",
    "\n",
    "import tensorflow as tf"
   ]
  },
  {
   "cell_type": "markdown",
   "id": "e1c8cf43",
   "metadata": {},
   "source": [
    "## Анализ данных / analysis"
   ]
  },
  {
   "cell_type": "markdown",
   "id": "d1a32ce3",
   "metadata": {},
   "source": [
    "Производится загрузка, анализ и дальнейшая обработка датасета по кейсу электронно-лучевой сварки\n",
    "<br>\n",
    "Electron beam welding case dataset loading, analysis and processing"
   ]
  },
  {
   "cell_type": "code",
   "execution_count": 21,
   "id": "2aa98e10",
   "metadata": {},
   "outputs": [],
   "source": [
    "# загружаем исходный датасет\n",
    "# load original dataset\n",
    "data = pd.read_csv('ebw_data.csv')"
   ]
  },
  {
   "cell_type": "code",
   "execution_count": 22,
   "id": "a6a1d970",
   "metadata": {},
   "outputs": [
    {
     "data": {
      "text/html": [
       "<div>\n",
       "<style scoped>\n",
       "    .dataframe tbody tr th:only-of-type {\n",
       "        vertical-align: middle;\n",
       "    }\n",
       "\n",
       "    .dataframe tbody tr th {\n",
       "        vertical-align: top;\n",
       "    }\n",
       "\n",
       "    .dataframe thead th {\n",
       "        text-align: right;\n",
       "    }\n",
       "</style>\n",
       "<table border=\"1\" class=\"dataframe\">\n",
       "  <thead>\n",
       "    <tr style=\"text-align: right;\">\n",
       "      <th></th>\n",
       "      <th>IW</th>\n",
       "      <th>IF</th>\n",
       "      <th>VW</th>\n",
       "      <th>FP</th>\n",
       "      <th>Depth</th>\n",
       "      <th>Width</th>\n",
       "    </tr>\n",
       "  </thead>\n",
       "  <tbody>\n",
       "    <tr>\n",
       "      <th>0</th>\n",
       "      <td>47</td>\n",
       "      <td>139</td>\n",
       "      <td>4.5</td>\n",
       "      <td>80</td>\n",
       "      <td>1.60</td>\n",
       "      <td>2.54</td>\n",
       "    </tr>\n",
       "    <tr>\n",
       "      <th>1</th>\n",
       "      <td>47</td>\n",
       "      <td>139</td>\n",
       "      <td>4.5</td>\n",
       "      <td>80</td>\n",
       "      <td>1.62</td>\n",
       "      <td>2.50</td>\n",
       "    </tr>\n",
       "    <tr>\n",
       "      <th>2</th>\n",
       "      <td>47</td>\n",
       "      <td>139</td>\n",
       "      <td>4.5</td>\n",
       "      <td>80</td>\n",
       "      <td>1.68</td>\n",
       "      <td>2.60</td>\n",
       "    </tr>\n",
       "    <tr>\n",
       "      <th>3</th>\n",
       "      <td>47</td>\n",
       "      <td>139</td>\n",
       "      <td>4.5</td>\n",
       "      <td>80</td>\n",
       "      <td>1.58</td>\n",
       "      <td>2.52</td>\n",
       "    </tr>\n",
       "    <tr>\n",
       "      <th>4</th>\n",
       "      <td>45</td>\n",
       "      <td>140</td>\n",
       "      <td>4.5</td>\n",
       "      <td>80</td>\n",
       "      <td>1.76</td>\n",
       "      <td>2.48</td>\n",
       "    </tr>\n",
       "  </tbody>\n",
       "</table>\n",
       "</div>"
      ],
      "text/plain": [
       "   IW   IF   VW  FP  Depth  Width\n",
       "0  47  139  4.5  80   1.60   2.54\n",
       "1  47  139  4.5  80   1.62   2.50\n",
       "2  47  139  4.5  80   1.68   2.60\n",
       "3  47  139  4.5  80   1.58   2.52\n",
       "4  45  140  4.5  80   1.76   2.48"
      ]
     },
     "execution_count": 22,
     "metadata": {},
     "output_type": "execute_result"
    }
   ],
   "source": [
    "# первые 5 элементов\n",
    "# first 5 elements\n",
    "data.head(5)"
   ]
  },
  {
   "cell_type": "markdown",
   "id": "18b901c2",
   "metadata": {},
   "source": [
    "IW; IF; VW; FP - входные параметры / input parameters\n",
    "<br>\n",
    "Depth, Width - целевой выход / target output"
   ]
  },
  {
   "cell_type": "code",
   "execution_count": 63,
   "id": "d5e544e8",
   "metadata": {},
   "outputs": [
    {
     "data": {
      "text/html": [
       "<div>\n",
       "<style scoped>\n",
       "    .dataframe tbody tr th:only-of-type {\n",
       "        vertical-align: middle;\n",
       "    }\n",
       "\n",
       "    .dataframe tbody tr th {\n",
       "        vertical-align: top;\n",
       "    }\n",
       "\n",
       "    .dataframe thead th {\n",
       "        text-align: right;\n",
       "    }\n",
       "</style>\n",
       "<table border=\"1\" class=\"dataframe\">\n",
       "  <thead>\n",
       "    <tr style=\"text-align: right;\">\n",
       "      <th></th>\n",
       "      <th>IW</th>\n",
       "      <th>IF</th>\n",
       "      <th>VW</th>\n",
       "      <th>FP</th>\n",
       "      <th>Depth</th>\n",
       "      <th>Width</th>\n",
       "    </tr>\n",
       "  </thead>\n",
       "  <tbody>\n",
       "    <tr>\n",
       "      <th>count</th>\n",
       "      <td>72.000000</td>\n",
       "      <td>72.000000</td>\n",
       "      <td>72.000000</td>\n",
       "      <td>72.000000</td>\n",
       "      <td>72.000000</td>\n",
       "      <td>72.000000</td>\n",
       "    </tr>\n",
       "    <tr>\n",
       "      <th>mean</th>\n",
       "      <td>45.666667</td>\n",
       "      <td>141.333333</td>\n",
       "      <td>8.638889</td>\n",
       "      <td>78.333333</td>\n",
       "      <td>1.195556</td>\n",
       "      <td>1.970417</td>\n",
       "    </tr>\n",
       "    <tr>\n",
       "      <th>std</th>\n",
       "      <td>1.678363</td>\n",
       "      <td>5.145763</td>\n",
       "      <td>2.061078</td>\n",
       "      <td>21.493530</td>\n",
       "      <td>0.225081</td>\n",
       "      <td>0.279040</td>\n",
       "    </tr>\n",
       "    <tr>\n",
       "      <th>min</th>\n",
       "      <td>43.000000</td>\n",
       "      <td>131.000000</td>\n",
       "      <td>4.500000</td>\n",
       "      <td>50.000000</td>\n",
       "      <td>0.800000</td>\n",
       "      <td>1.680000</td>\n",
       "    </tr>\n",
       "    <tr>\n",
       "      <th>25%</th>\n",
       "      <td>44.000000</td>\n",
       "      <td>139.000000</td>\n",
       "      <td>8.000000</td>\n",
       "      <td>60.000000</td>\n",
       "      <td>1.080000</td>\n",
       "      <td>1.760000</td>\n",
       "    </tr>\n",
       "    <tr>\n",
       "      <th>50%</th>\n",
       "      <td>45.500000</td>\n",
       "      <td>141.000000</td>\n",
       "      <td>9.000000</td>\n",
       "      <td>80.000000</td>\n",
       "      <td>1.200000</td>\n",
       "      <td>1.840000</td>\n",
       "    </tr>\n",
       "    <tr>\n",
       "      <th>75%</th>\n",
       "      <td>47.000000</td>\n",
       "      <td>146.000000</td>\n",
       "      <td>10.000000</td>\n",
       "      <td>80.000000</td>\n",
       "      <td>1.290000</td>\n",
       "      <td>2.050000</td>\n",
       "    </tr>\n",
       "    <tr>\n",
       "      <th>max</th>\n",
       "      <td>49.000000</td>\n",
       "      <td>150.000000</td>\n",
       "      <td>12.000000</td>\n",
       "      <td>125.000000</td>\n",
       "      <td>1.760000</td>\n",
       "      <td>2.600000</td>\n",
       "    </tr>\n",
       "  </tbody>\n",
       "</table>\n",
       "</div>"
      ],
      "text/plain": [
       "              IW          IF         VW          FP      Depth      Width\n",
       "count  72.000000   72.000000  72.000000   72.000000  72.000000  72.000000\n",
       "mean   45.666667  141.333333   8.638889   78.333333   1.195556   1.970417\n",
       "std     1.678363    5.145763   2.061078   21.493530   0.225081   0.279040\n",
       "min    43.000000  131.000000   4.500000   50.000000   0.800000   1.680000\n",
       "25%    44.000000  139.000000   8.000000   60.000000   1.080000   1.760000\n",
       "50%    45.500000  141.000000   9.000000   80.000000   1.200000   1.840000\n",
       "75%    47.000000  146.000000  10.000000   80.000000   1.290000   2.050000\n",
       "max    49.000000  150.000000  12.000000  125.000000   1.760000   2.600000"
      ]
     },
     "execution_count": 63,
     "metadata": {},
     "output_type": "execute_result"
    }
   ],
   "source": [
    "# описание датасета\n",
    "# dataset description\n",
    "data.describe()"
   ]
  },
  {
   "cell_type": "markdown",
   "id": "973685e6",
   "metadata": {},
   "source": [
    "Большого разброса между максимумом и минимум по входным параметрам не обнаружено\n",
    "<br>\n",
    "Построим несколько графиков чтобы это продемонстрировать\n"
   ]
  },
  {
   "cell_type": "code",
   "execution_count": 64,
   "id": "7e95ab47",
   "metadata": {},
   "outputs": [
    {
     "data": {
      "image/png": "[encoded data removed]",
      "text/plain": [
       "<Figure size 1224x72 with 1 Axes>"
      ]
     },
     "metadata": {
      "needs_background": "light"
     },
     "output_type": "display_data"
    },
    {
     "data": {
      "image/png": "[encoded data removed]",
      "text/plain": [
       "<Figure size 1224x72 with 1 Axes>"
      ]
     },
     "metadata": {
      "needs_background": "light"
     },
     "output_type": "display_data"
    },
    {
     "data": {
      "image/png": "[encoded data removed]",
      "text/plain": [
       "<Figure size 1224x72 with 1 Axes>"
      ]
     },
     "metadata": {
      "needs_background": "light"
     },
     "output_type": "display_data"
    },
    {
     "data": {
      "image/png": "[encoded data removed]",
      "text/plain": [
       "<Figure size 1224x72 with 1 Axes>"
      ]
     },
     "metadata": {
      "needs_background": "light"
     },
     "output_type": "display_data"
    }
   ],
   "source": [
    "for column in data[['IW','IF','VW','FP']]:\n",
    "        plt.figure(figsize=(17,1))\n",
    "        plt.title(column)\n",
    "        sns.boxplot(data=data, x=column)"
   ]
  },
  {
   "cell_type": "code",
   "execution_count": 65,
   "id": "161bd5b1",
   "metadata": {},
   "outputs": [
    {
     "name": "stdout",
     "output_type": "stream",
     "text": [
      "<class 'pandas.core.frame.DataFrame'>\n",
      "RangeIndex: 72 entries, 0 to 71\n",
      "Data columns (total 6 columns):\n",
      " #   Column  Non-Null Count  Dtype  \n",
      "---  ------  --------------  -----  \n",
      " 0   IW      72 non-null     int64  \n",
      " 1   IF      72 non-null     int64  \n",
      " 2   VW      72 non-null     float64\n",
      " 3   FP      72 non-null     int64  \n",
      " 4   Depth   72 non-null     float64\n",
      " 5   Width   72 non-null     float64\n",
      "dtypes: float64(3), int64(3)\n",
      "memory usage: 3.5 KB\n"
     ]
    }
   ],
   "source": [
    "# базовая информация о датасете\n",
    "# dataset basic info\n",
    "data.info()"
   ]
  },
  {
   "cell_type": "markdown",
   "id": "774eddd8",
   "metadata": {},
   "source": [
    "Из информации о датасете видно, что все строки представляют собой целые числа или числа с плавающей точкой.\n",
    "<br>\n",
    "Пропусков в датасете нет, а потому не требуется обработка и замена пропусков.\n",
    "<br>\n",
    "Кроме того, нет категориальных признаков, к котором можно было бы применять кодирование (прим, LabelEncdoing или метод pandas.get_dummies())\n",
    "<br>"
   ]
  },
  {
   "cell_type": "code",
   "execution_count": 66,
   "id": "ac06be72",
   "metadata": {},
   "outputs": [
    {
     "data": {
      "text/html": [
       "<div>\n",
       "<style scoped>\n",
       "    .dataframe tbody tr th:only-of-type {\n",
       "        vertical-align: middle;\n",
       "    }\n",
       "\n",
       "    .dataframe tbody tr th {\n",
       "        vertical-align: top;\n",
       "    }\n",
       "\n",
       "    .dataframe thead th {\n",
       "        text-align: right;\n",
       "    }\n",
       "</style>\n",
       "<table border=\"1\" class=\"dataframe\">\n",
       "  <thead>\n",
       "    <tr style=\"text-align: right;\">\n",
       "      <th></th>\n",
       "      <th>IW</th>\n",
       "      <th>IF</th>\n",
       "      <th>VW</th>\n",
       "      <th>FP</th>\n",
       "      <th>Depth</th>\n",
       "      <th>Width</th>\n",
       "    </tr>\n",
       "  </thead>\n",
       "  <tbody>\n",
       "    <tr>\n",
       "      <th>IW</th>\n",
       "      <td>1.000000</td>\n",
       "      <td>-0.861073</td>\n",
       "      <td>-0.043430</td>\n",
       "      <td>0.835530</td>\n",
       "      <td>-0.289568</td>\n",
       "      <td>0.434869</td>\n",
       "    </tr>\n",
       "    <tr>\n",
       "      <th>IF</th>\n",
       "      <td>-0.861073</td>\n",
       "      <td>1.000000</td>\n",
       "      <td>0.115093</td>\n",
       "      <td>-0.980562</td>\n",
       "      <td>0.376084</td>\n",
       "      <td>-0.510167</td>\n",
       "    </tr>\n",
       "    <tr>\n",
       "      <th>VW</th>\n",
       "      <td>-0.043430</td>\n",
       "      <td>0.115093</td>\n",
       "      <td>1.000000</td>\n",
       "      <td>-0.001060</td>\n",
       "      <td>-0.671437</td>\n",
       "      <td>-0.874257</td>\n",
       "    </tr>\n",
       "    <tr>\n",
       "      <th>FP</th>\n",
       "      <td>0.835530</td>\n",
       "      <td>-0.980562</td>\n",
       "      <td>-0.001060</td>\n",
       "      <td>1.000000</td>\n",
       "      <td>-0.510748</td>\n",
       "      <td>0.412962</td>\n",
       "    </tr>\n",
       "    <tr>\n",
       "      <th>Depth</th>\n",
       "      <td>-0.289568</td>\n",
       "      <td>0.376084</td>\n",
       "      <td>-0.671437</td>\n",
       "      <td>-0.510748</td>\n",
       "      <td>1.000000</td>\n",
       "      <td>0.425391</td>\n",
       "    </tr>\n",
       "    <tr>\n",
       "      <th>Width</th>\n",
       "      <td>0.434869</td>\n",
       "      <td>-0.510167</td>\n",
       "      <td>-0.874257</td>\n",
       "      <td>0.412962</td>\n",
       "      <td>0.425391</td>\n",
       "      <td>1.000000</td>\n",
       "    </tr>\n",
       "  </tbody>\n",
       "</table>\n",
       "</div>"
      ],
      "text/plain": [
       "             IW        IF        VW        FP     Depth     Width\n",
       "IW     1.000000 -0.861073 -0.043430  0.835530 -0.289568  0.434869\n",
       "IF    -0.861073  1.000000  0.115093 -0.980562  0.376084 -0.510167\n",
       "VW    -0.043430  0.115093  1.000000 -0.001060 -0.671437 -0.874257\n",
       "FP     0.835530 -0.980562 -0.001060  1.000000 -0.510748  0.412962\n",
       "Depth -0.289568  0.376084 -0.671437 -0.510748  1.000000  0.425391\n",
       "Width  0.434869 -0.510167 -0.874257  0.412962  0.425391  1.000000"
      ]
     },
     "execution_count": 66,
     "metadata": {},
     "output_type": "execute_result"
    }
   ],
   "source": [
    "# корреляционная матрица\n",
    "# correlation matrix\n",
    "data.corr()"
   ]
  },
  {
   "cell_type": "markdown",
   "id": "96bd4388",
   "metadata": {},
   "source": [
    "Согласно корреляционной матрице прослеживается определенная корреляция между параметрами. Как прямая — стремится к 1, так и обратная — к -1.\n",
    "<br>\n",
    "В данном случае больше всего интересуют с чем коррелируются показатели Depth и Width. По таблице выше можно сделать вывод, что все 4 входных параметра требуются и никакие столбцы удалять не стоит."
   ]
  },
  {
   "cell_type": "markdown",
   "id": "28659b4f",
   "metadata": {},
   "source": [
    "## Предобработка / preprocessing"
   ]
  },
  {
   "cell_type": "code",
   "execution_count": 67,
   "id": "22d1147e",
   "metadata": {},
   "outputs": [],
   "source": [
    "# целевые сразу глубина и ширина\n",
    "# targets are depth and width\n",
    "y = np.array(data[['Depth', 'Width']])"
   ]
  },
  {
   "cell_type": "code",
   "execution_count": 68,
   "id": "7538f6a8",
   "metadata": {},
   "outputs": [
    {
     "data": {
      "text/plain": [
       "array([[1.6 , 2.54],\n",
       "       [1.62, 2.5 ],\n",
       "       [1.68, 2.6 ],\n",
       "       [1.58, 2.52],\n",
       "       [1.76, 2.48]])"
      ]
     },
     "execution_count": 68,
     "metadata": {},
     "output_type": "execute_result"
    }
   ],
   "source": [
    "y[:5]"
   ]
  },
  {
   "cell_type": "code",
   "execution_count": 69,
   "id": "96ba8f67",
   "metadata": {},
   "outputs": [],
   "source": [
    "# переводим параметры в numpy array\n",
    "# transform parameters to np array\n",
    "X = np.array(data[['IW','IF','VW','FP']])"
   ]
  },
  {
   "cell_type": "code",
   "execution_count": 70,
   "id": "83beb47f",
   "metadata": {},
   "outputs": [
    {
     "data": {
      "text/plain": [
       "array([[ 47. , 139. ,   4.5,  80. ],\n",
       "       [ 47. , 139. ,   4.5,  80. ],\n",
       "       [ 47. , 139. ,   4.5,  80. ],\n",
       "       [ 47. , 139. ,   4.5,  80. ],\n",
       "       [ 45. , 140. ,   4.5,  80. ]])"
      ]
     },
     "execution_count": 70,
     "metadata": {},
     "output_type": "execute_result"
    }
   ],
   "source": [
    "X[:5]"
   ]
  },
  {
   "cell_type": "code",
   "execution_count": 71,
   "id": "a432b03a",
   "metadata": {},
   "outputs": [],
   "source": [
    "# обучаем на исходном датасете стандартизатор\n",
    "# fitting scaler with original dataset\n",
    "scaler = StandardScaler().fit(X)"
   ]
  },
  {
   "cell_type": "code",
   "execution_count": 72,
   "id": "a43cc127",
   "metadata": {},
   "outputs": [],
   "source": [
    "# сохраним для будущего использования вне ноутбука\n",
    "# save for future use, outside this notebook\n",
    "pickle.dump(scaler, open('scaler.pkl', 'wb'))"
   ]
  },
  {
   "cell_type": "code",
   "execution_count": 73,
   "id": "2a979e97",
   "metadata": {},
   "outputs": [],
   "source": [
    "# масштабируем\n",
    "# scaling\n",
    "X_scaled = scaler.transform(X)"
   ]
  },
  {
   "cell_type": "code",
   "execution_count": 74,
   "id": "81d0ad29",
   "metadata": {},
   "outputs": [
    {
     "data": {
      "text/plain": [
       "array([[ 0.8       , -0.45662965, -2.02221044,  0.07808688],\n",
       "       [ 0.8       , -0.45662965, -2.02221044,  0.07808688],\n",
       "       [ 0.8       , -0.45662965, -2.02221044,  0.07808688],\n",
       "       [ 0.8       , -0.45662965, -2.02221044,  0.07808688],\n",
       "       [-0.4       , -0.26093123, -2.02221044,  0.07808688]])"
      ]
     },
     "execution_count": 74,
     "metadata": {},
     "output_type": "execute_result"
    }
   ],
   "source": [
    "X_scaled[:5]"
   ]
  },
  {
   "cell_type": "markdown",
   "id": "d69c1d9d",
   "metadata": {},
   "source": [
    "## Обучение и проверка моделей / Model train and test"
   ]
  },
  {
   "cell_type": "markdown",
   "id": "5529b271",
   "metadata": {},
   "source": [
    "Далее будут рассмотрены и обучены несколько моделей машинного обучения. Здесь и далее (и в разделе \"Нейросеть\") буду считать, что достаточным критерием точности и качества работы использованных и настроенных мной моделей будут являться:"
   ]
  },
  {
   "cell_type": "markdown",
   "id": "fe5168ed",
   "metadata": {},
   "source": [
    "mean_squared_error - среднеквадратичная ошибка, не более 0.01\n",
    "<br>\n",
    "mean_absolute_error - средняя абсолютная ошибка, не более 0.1\n",
    "<br>\n",
    "r2_score - коэффициент детерминации R2, не менее 0.80\n",
    "<br>"
   ]
  },
  {
   "cell_type": "markdown",
   "id": "df86ef09",
   "metadata": {},
   "source": [
    "В дальнейшем буду подбирать параметры моделей и осуществлять их выбор исходя из этих критериев. Беру относительно большие значения, т.к. исходный датасет имеет всего 72 элемента и может не позволить обеспечить более точные предсказания в различных ситуациях реальной деятельности. Попытка получить коэффициент превышающие обозначенные мной выше показатели могут свидетельствовать о переобучении модели, т.е. о возможности крайне точных предсказаний на исходном датасете при невозможности или низкой точности предсказаний на других реальных параметрах."
   ]
  },
  {
   "cell_type": "code",
   "execution_count": 75,
   "id": "f90bc8c4",
   "metadata": {},
   "outputs": [],
   "source": [
    "# делим на тестовую и тренировочную выборки, перемешиваем, 20% на тест\n",
    "# splitting to test and train, shuffling, 20% to the test\n",
    "X_train, X_test, y_train, y_test = train_test_split(X_scaled, y, test_size=0.2, shuffle=True)"
   ]
  },
  {
   "cell_type": "code",
   "execution_count": 76,
   "id": "3826c651",
   "metadata": {},
   "outputs": [],
   "source": [
    "# тренируем простую линеную регрессию\n",
    "# training simple linear regression\n",
    "linear_model = LinearRegression().fit(X_train, y_train)"
   ]
  },
  {
   "cell_type": "code",
   "execution_count": 77,
   "id": "2b45a237",
   "metadata": {},
   "outputs": [],
   "source": [
    "# сохраняем для использования в веб-приложении\n",
    "# save for web-application use\n",
    "pickle.dump(linear_model, open('linear_model.pkl', 'wb'))"
   ]
  },
  {
   "cell_type": "code",
   "execution_count": 78,
   "id": "11d43f33",
   "metadata": {},
   "outputs": [],
   "source": [
    "# предсказания\n",
    "# predictions\n",
    "y_pred = linear_model.predict(X_test)"
   ]
  },
  {
   "cell_type": "code",
   "execution_count": 79,
   "id": "0e1fa950",
   "metadata": {},
   "outputs": [
    {
     "data": {
      "text/plain": [
       "array([[1.09220681, 1.77841906],\n",
       "       [1.09220681, 1.77841906],\n",
       "       [0.9284009 , 1.93761943],\n",
       "       [1.10851088, 1.80479943],\n",
       "       [1.56471377, 2.49651018],\n",
       "       [1.01741098, 1.58197573],\n",
       "       [1.10851088, 1.80479943],\n",
       "       [1.56471377, 2.49651018],\n",
       "       [1.01741098, 1.58197573],\n",
       "       [1.45983669, 2.45373984],\n",
       "       [1.56471377, 2.49651018],\n",
       "       [0.9284009 , 1.93761943],\n",
       "       [1.22015372, 1.78263073],\n",
       "       [1.21536394, 1.73716981],\n",
       "       [1.23645779, 1.8090111 ]])"
      ]
     },
     "execution_count": 79,
     "metadata": {},
     "output_type": "execute_result"
    }
   ],
   "source": [
    "y_pred"
   ]
  },
  {
   "cell_type": "code",
   "execution_count": 80,
   "id": "8eb8f07d",
   "metadata": {},
   "outputs": [
    {
     "data": {
      "text/plain": [
       "array([[1.  , 1.86],\n",
       "       [1.04, 1.9 ],\n",
       "       [0.96, 2.  ],\n",
       "       [1.2 , 1.86],\n",
       "       [1.6 , 2.54],\n",
       "       [1.12, 1.71],\n",
       "       [1.  , 1.84],\n",
       "       [1.4 , 2.48],\n",
       "       [1.2 , 1.8 ],\n",
       "       [1.64, 2.52],\n",
       "       [1.62, 2.5 ],\n",
       "       [0.94, 1.94],\n",
       "       [1.24, 1.78],\n",
       "       [1.28, 1.8 ],\n",
       "       [1.2 , 1.76]])"
      ]
     },
     "execution_count": 80,
     "metadata": {},
     "output_type": "execute_result"
    }
   ],
   "source": [
    "y_test"
   ]
  },
  {
   "cell_type": "code",
   "execution_count": 81,
   "id": "578be877",
   "metadata": {},
   "outputs": [
    {
     "data": {
      "text/plain": [
       "0.008420978290121305"
      ]
     },
     "execution_count": 81,
     "metadata": {},
     "output_type": "execute_result"
    }
   ],
   "source": [
    "# среднеквадратичная ошибка\n",
    "mean_squared_error(y_test, y_pred)"
   ]
  },
  {
   "cell_type": "code",
   "execution_count": 82,
   "id": "fcbdaa5e",
   "metadata": {},
   "outputs": [
    {
     "data": {
      "text/plain": [
       "0.0725924744117322"
      ]
     },
     "execution_count": 82,
     "metadata": {},
     "output_type": "execute_result"
    }
   ],
   "source": [
    "# средняя абсолютная ошибка\n",
    "mean_absolute_error(y_test, y_pred)"
   ]
  },
  {
   "cell_type": "code",
   "execution_count": 83,
   "id": "8abc86aa",
   "metadata": {},
   "outputs": [
    {
     "data": {
      "text/plain": [
       "0.870482458239103"
      ]
     },
     "execution_count": 83,
     "metadata": {},
     "output_type": "execute_result"
    }
   ],
   "source": [
    "# коэффициент детерминации\n",
    "r2_score(y_test, y_pred)"
   ]
  },
  {
   "cell_type": "markdown",
   "id": "784ca2b7",
   "metadata": {},
   "source": [
    "Пробуем предсказать два разных целевых значения, по одному, на одном и том же наборе входных параметров"
   ]
  },
  {
   "cell_type": "code",
   "execution_count": 84,
   "id": "52277c44",
   "metadata": {},
   "outputs": [],
   "source": [
    "# попробуем предсказать отдельно глубину и ширину\n",
    "# trying to predict width and depth separately\n",
    "\n",
    "y_depth = y[:,0]"
   ]
  },
  {
   "cell_type": "code",
   "execution_count": 85,
   "id": "873a7386",
   "metadata": {},
   "outputs": [
    {
     "data": {
      "text/plain": [
       "array([1.6 , 1.62, 1.68, 1.58, 1.76, 1.72, 1.64, 1.64, 1.2 , 1.2 , 1.16,\n",
       "       1.2 , 0.98, 1.02, 1.04, 1.  , 1.2 , 1.  , 1.2 , 1.16, 1.12, 1.08,\n",
       "       1.2 , 1.08, 0.96, 0.96, 0.92, 0.94, 1.36, 1.36, 1.4 , 1.36, 0.84,\n",
       "       0.86, 0.88, 0.8 , 0.84, 0.84, 0.8 , 0.8 , 1.12, 1.22, 1.12, 1.18,\n",
       "       1.28, 1.36, 1.36, 1.24, 1.28, 1.32, 1.24, 1.32, 1.08, 1.08, 1.08,\n",
       "       1.08, 1.2 , 1.2 , 1.2 , 1.2 , 1.2 , 1.24, 1.2 , 1.24, 1.16, 1.2 ,\n",
       "       1.24, 1.2 , 1.36, 1.28, 1.28, 1.32])"
      ]
     },
     "execution_count": 85,
     "metadata": {},
     "output_type": "execute_result"
    }
   ],
   "source": [
    "y_depth"
   ]
  },
  {
   "cell_type": "code",
   "execution_count": 86,
   "id": "079c49cb",
   "metadata": {},
   "outputs": [],
   "source": [
    "y_width = y[:, 1]"
   ]
  },
  {
   "cell_type": "code",
   "execution_count": 87,
   "id": "43b77946",
   "metadata": {},
   "outputs": [
    {
     "data": {
      "text/plain": [
       "array([2.54, 2.5 , 2.6 , 2.52, 2.48, 2.48, 2.52, 2.56, 2.  , 1.96, 1.96,\n",
       "       1.96, 1.84, 1.84, 1.9 , 1.86, 1.78, 1.84, 1.86, 1.8 , 1.71, 1.68,\n",
       "       1.8 , 1.72, 2.  , 1.94, 1.86, 1.94, 2.52, 2.48, 2.48, 2.48, 2.16,\n",
       "       2.08, 2.  , 2.04, 2.28, 2.24, 2.24, 2.28, 1.76, 1.82, 1.8 , 1.78,\n",
       "       1.8 , 1.76, 1.76, 1.76, 1.8 , 1.84, 1.8 , 1.96, 1.8 , 1.82, 1.82,\n",
       "       1.82, 1.76, 1.86, 1.88, 1.76, 1.76, 1.8 , 1.72, 1.78, 1.76, 1.68,\n",
       "       1.72, 1.72, 1.76, 1.76, 1.76, 1.76])"
      ]
     },
     "execution_count": 87,
     "metadata": {},
     "output_type": "execute_result"
    }
   ],
   "source": [
    "y_width"
   ]
  },
  {
   "cell_type": "code",
   "execution_count": 88,
   "id": "fe6064c0",
   "metadata": {},
   "outputs": [],
   "source": [
    "X_train_depth, X_test_depth, y_train_depth, y_test_depth = train_test_split(X_scaled, y_depth, test_size=0.2, shuffle=True)"
   ]
  },
  {
   "cell_type": "code",
   "execution_count": 89,
   "id": "e99dc2f7",
   "metadata": {},
   "outputs": [],
   "source": [
    "X_train_width, X_test_width, y_train_width, y_test_width = train_test_split(X_scaled, y_width, test_size=0.2, shuffle=True)"
   ]
  },
  {
   "cell_type": "code",
   "execution_count": 90,
   "id": "a5beee50",
   "metadata": {},
   "outputs": [],
   "source": [
    "depthLinModel = LinearRegression().fit(X_train_depth, y_train_depth)"
   ]
  },
  {
   "cell_type": "code",
   "execution_count": 91,
   "id": "c36e8ca1",
   "metadata": {},
   "outputs": [],
   "source": [
    "widthLinMocel = LinearRegression().fit(X_train_width, y_train_width)"
   ]
  },
  {
   "cell_type": "code",
   "execution_count": 92,
   "id": "c559fed6",
   "metadata": {},
   "outputs": [],
   "source": [
    "depth_pred = depthLinModel.predict(X_test_depth)"
   ]
  },
  {
   "cell_type": "code",
   "execution_count": 93,
   "id": "20e208ca",
   "metadata": {},
   "outputs": [],
   "source": [
    "width_pred = widthLinMocel.predict(X_test_width)"
   ]
  },
  {
   "cell_type": "code",
   "execution_count": 94,
   "id": "a651657f",
   "metadata": {},
   "outputs": [
    {
     "data": {
      "text/plain": [
       "(array([0.9383711 , 1.238803  , 1.238803  , 0.9383711 , 0.89528009,\n",
       "        1.17194798, 1.01592631, 0.89528009, 1.238803  , 1.585635  ,\n",
       "        1.09341297, 1.238803  , 1.238803  , 1.09341297, 1.21934009]),\n",
       " array([0.94, 1.32, 1.2 , 0.96, 0.84, 1.08, 1.12, 0.8 , 1.28, 1.36, 1.02,\n",
       "        1.24, 1.24, 0.98, 1.36]))"
      ]
     },
     "execution_count": 94,
     "metadata": {},
     "output_type": "execute_result"
    }
   ],
   "source": [
    "depth_pred, y_test_depth"
   ]
  },
  {
   "cell_type": "code",
   "execution_count": 95,
   "id": "a64eb9bd",
   "metadata": {},
   "outputs": [
    {
     "data": {
      "text/plain": [
       "(array([1.82079217, 2.50754314, 2.02542248, 1.81963469, 1.94647502,\n",
       "        2.02983594, 1.76319932, 1.84887521, 1.81963469, 1.60877685,\n",
       "        1.81963469, 1.81963469, 1.84887521, 1.60877685, 2.45203365]),\n",
       " array([1.86, 2.48, 2.08, 1.76, 2.  , 1.96, 1.82, 1.76, 1.76, 1.71, 1.96,\n",
       "        1.72, 1.76, 1.68, 2.48]))"
      ]
     },
     "execution_count": 95,
     "metadata": {},
     "output_type": "execute_result"
    }
   ],
   "source": [
    "width_pred, y_test_width"
   ]
  },
  {
   "cell_type": "code",
   "execution_count": 96,
   "id": "aa073d30",
   "metadata": {},
   "outputs": [
    {
     "data": {
      "text/plain": [
       "(0.7251492842340792, 0.9087722140633094)"
      ]
     },
     "execution_count": 96,
     "metadata": {},
     "output_type": "execute_result"
    }
   ],
   "source": [
    "# серьезного улучшения точности не видно\n",
    "# no meaningfull improvements in predictions\n",
    "r2_score(depth_pred, y_test_depth), r2_score(width_pred, y_test_width)"
   ]
  },
  {
   "cell_type": "markdown",
   "id": "61ed8b98",
   "metadata": {},
   "source": [
    "Серьезного увеличения точности предсказания не отмечено"
   ]
  },
  {
   "cell_type": "markdown",
   "id": "ef6708ae",
   "metadata": {},
   "source": [
    "Добавляем еще одну мощную модель машинного обучения из ансамблей - случайный лес из решающих деревьев"
   ]
  },
  {
   "cell_type": "code",
   "execution_count": 99,
   "id": "fe290c9d",
   "metadata": {},
   "outputs": [],
   "source": [
    "forest_model = RandomForestRegressor()"
   ]
  },
  {
   "cell_type": "code",
   "execution_count": 100,
   "id": "4d297565",
   "metadata": {},
   "outputs": [
    {
     "data": {
      "text/plain": [
       "RandomForestRegressor()"
      ]
     },
     "execution_count": 100,
     "metadata": {},
     "output_type": "execute_result"
    }
   ],
   "source": [
    "# обучаем\n",
    "forest_model.fit(X_train, y_train)"
   ]
  },
  {
   "cell_type": "code",
   "execution_count": 101,
   "id": "efefd890",
   "metadata": {},
   "outputs": [],
   "source": [
    "# сохраняем\n",
    "pickle.dump(forest_model, open('forest_model.pkl', 'wb'))"
   ]
  },
  {
   "cell_type": "code",
   "execution_count": 102,
   "id": "31c194d2",
   "metadata": {},
   "outputs": [],
   "source": [
    "y_pred = forest_model.predict(X_test)"
   ]
  },
  {
   "cell_type": "code",
   "execution_count": 103,
   "id": "cba75538",
   "metadata": {},
   "outputs": [
    {
     "data": {
      "text/plain": [
       "array([[1.02924857, 1.82973333],\n",
       "       [1.02924857, 1.82973333],\n",
       "       [0.93261762, 1.93548762],\n",
       "       [1.15802667, 1.79188667],\n",
       "       [1.46663405, 2.5181173 ],\n",
       "       [1.08765333, 1.71040667],\n",
       "       [1.15802667, 1.79188667],\n",
       "       [1.46663405, 2.5181173 ],\n",
       "       [1.08765333, 1.71040667],\n",
       "       [1.69561238, 2.4934419 ],\n",
       "       [1.46663405, 2.5181173 ],\n",
       "       [0.93261762, 1.93548762],\n",
       "       [1.21275111, 1.76550365],\n",
       "       [1.32174857, 1.76      ],\n",
       "       [1.23221742, 1.80297387]])"
      ]
     },
     "execution_count": 103,
     "metadata": {},
     "output_type": "execute_result"
    }
   ],
   "source": [
    "y_pred"
   ]
  },
  {
   "cell_type": "code",
   "execution_count": 104,
   "id": "ba795cdd",
   "metadata": {},
   "outputs": [
    {
     "data": {
      "text/plain": [
       "array([[1.  , 1.86],\n",
       "       [1.04, 1.9 ],\n",
       "       [0.96, 2.  ],\n",
       "       [1.2 , 1.86],\n",
       "       [1.6 , 2.54],\n",
       "       [1.12, 1.71],\n",
       "       [1.  , 1.84],\n",
       "       [1.4 , 2.48],\n",
       "       [1.2 , 1.8 ],\n",
       "       [1.64, 2.52],\n",
       "       [1.62, 2.5 ],\n",
       "       [0.94, 1.94],\n",
       "       [1.24, 1.78],\n",
       "       [1.28, 1.8 ],\n",
       "       [1.2 , 1.76]])"
      ]
     },
     "execution_count": 104,
     "metadata": {},
     "output_type": "execute_result"
    }
   ],
   "source": [
    "y_test"
   ]
  },
  {
   "cell_type": "code",
   "execution_count": 105,
   "id": "979cfc5a",
   "metadata": {},
   "outputs": [
    {
     "data": {
      "text/plain": [
       "0.9220530645370493"
      ]
     },
     "execution_count": 105,
     "metadata": {},
     "output_type": "execute_result"
    }
   ],
   "source": [
    "# коэф детерминации приличный\n",
    "r2_score(y_pred, y_test)"
   ]
  },
  {
   "cell_type": "code",
   "execution_count": 106,
   "id": "73ad54b1",
   "metadata": {},
   "outputs": [
    {
     "data": {
      "text/plain": [
       "(0.05025272285557572, 0.0042060283352769925)"
      ]
     },
     "execution_count": 106,
     "metadata": {},
     "output_type": "execute_result"
    }
   ],
   "source": [
    "mean_absolute_error(y_pred, y_test), mean_squared_error(y_pred, y_test)"
   ]
  },
  {
   "cell_type": "markdown",
   "id": "63af1f1a",
   "metadata": {},
   "source": [
    "Решающий лес показывает высокую точность предсказания даже на параметрах по умолчанию. Однако, возможно переобучение на текущем датасете в виду сложности применяемого инструмента по сравнению с размерами набора данных."
   ]
  },
  {
   "cell_type": "markdown",
   "id": "12485f82",
   "metadata": {},
   "source": [
    "### Модель Ridge и GridSearchCV"
   ]
  },
  {
   "cell_type": "markdown",
   "id": "3b8634d1",
   "metadata": {},
   "source": [
    "Попробуем еще одну линейную модель - Ридж или гребневая регрессия. Для ее оптимальной работы требуется найти лучший или хотя бы достаточной хороший коэффициент альфа (или лямбда). Буду делать это с помощью инструмента GridSearchCV. В него передаётся модель машинного обучения и список параметров для проверки качества."
   ]
  },
  {
   "cell_type": "code",
   "execution_count": 108,
   "id": "3f97b6ff",
   "metadata": {},
   "outputs": [],
   "source": [
    "from sklearn.linear_model import Ridge\n",
    "from sklearn.model_selection import GridSearchCV"
   ]
  },
  {
   "cell_type": "code",
   "execution_count": 128,
   "id": "0a3d3d37",
   "metadata": {},
   "outputs": [],
   "source": [
    "# создадим список возможны значений альфа от 0.001 до 10 с шагом 0.001\n",
    "# possible alpha values list from 0.001 to 10 with step 0.001\n",
    "parameters = {'alpha': np.arange(0.001, 10, 0.001)}"
   ]
  },
  {
   "cell_type": "code",
   "execution_count": 129,
   "id": "7da684a5",
   "metadata": {},
   "outputs": [],
   "source": [
    "model = Ridge()\n",
    "# Ищем наилучший результат при разных значения альфа для метрики отрицательная среднеквадр. ошибка, кросс валидация 5-fold\n",
    "# finding best alphas for negative MSE metrics with 5-fold cross-validation\n",
    "ridge_reg = GridSearchCV(model, parameters, scoring='neg_mean_squared_error', cv=5)"
   ]
  },
  {
   "cell_type": "code",
   "execution_count": 130,
   "id": "21845d32",
   "metadata": {},
   "outputs": [
    {
     "data": {
      "text/plain": [
       "GridSearchCV(cv=5, estimator=Ridge(),\n",
       "             param_grid={'alpha': array([1.000e-03, 2.000e-03, 3.000e-03, ..., 9.997e+00, 9.998e+00,\n",
       "       9.999e+00])},\n",
       "             scoring='neg_mean_squared_error')"
      ]
     },
     "execution_count": 130,
     "metadata": {},
     "output_type": "execute_result"
    }
   ],
   "source": [
    "# тренируем на всем отмасштабированном датасете\n",
    "# fitting on all scaled dataset\n",
    "ridge_reg.fit(X_scaled, y)"
   ]
  },
  {
   "cell_type": "code",
   "execution_count": 131,
   "id": "b83ffe48",
   "metadata": {},
   "outputs": [
    {
     "data": {
      "text/plain": [
       "Ridge(alpha=0.001)"
      ]
     },
     "execution_count": 131,
     "metadata": {},
     "output_type": "execute_result"
    }
   ],
   "source": [
    "# лучшая модель\n",
    "# best model\n",
    "ridge_reg.best_estimator_"
   ]
  },
  {
   "cell_type": "code",
   "execution_count": 132,
   "id": "faf5ebeb",
   "metadata": {},
   "outputs": [],
   "source": [
    "ridge_model = ridge_reg.best_estimator_"
   ]
  },
  {
   "cell_type": "code",
   "execution_count": 133,
   "id": "61208458",
   "metadata": {},
   "outputs": [
    {
     "data": {
      "text/plain": [
       "Ridge(alpha=0.001)"
      ]
     },
     "execution_count": 133,
     "metadata": {},
     "output_type": "execute_result"
    }
   ],
   "source": [
    "# обучаем модель на тренировочной выборке\n",
    "# fitting best model on train split\n",
    "ridge_model.fit(X_train, y_train)"
   ]
  },
  {
   "cell_type": "code",
   "execution_count": 134,
   "id": "717e489d",
   "metadata": {},
   "outputs": [],
   "source": [
    "y_pred = ridge_model.predict(X_test)"
   ]
  },
  {
   "cell_type": "code",
   "execution_count": 135,
   "id": "53649ff8",
   "metadata": {},
   "outputs": [
    {
     "data": {
      "text/plain": [
       "array([[1.09214376, 1.77843964],\n",
       "       [1.09214376, 1.77843964],\n",
       "       [0.92834933, 1.93763725],\n",
       "       [1.10847423, 1.80481202],\n",
       "       [1.56464578, 2.49651307],\n",
       "       [1.01734149, 1.58200068],\n",
       "       [1.10847423, 1.80481202],\n",
       "       [1.56464578, 2.49651307],\n",
       "       [1.01734149, 1.58200068],\n",
       "       [1.45982621, 2.45373158],\n",
       "       [1.56464578, 2.49651307],\n",
       "       [0.92834933, 1.93763725],\n",
       "       [1.22013179, 1.78263926],\n",
       "       [1.21539161, 1.73716453],\n",
       "       [1.23646227, 1.80901164]])"
      ]
     },
     "execution_count": 135,
     "metadata": {},
     "output_type": "execute_result"
    }
   ],
   "source": [
    "y_pred"
   ]
  },
  {
   "cell_type": "code",
   "execution_count": 136,
   "id": "189494b0",
   "metadata": {},
   "outputs": [
    {
     "data": {
      "text/plain": [
       "array([[1.  , 1.86],\n",
       "       [1.04, 1.9 ],\n",
       "       [0.96, 2.  ],\n",
       "       [1.2 , 1.86],\n",
       "       [1.6 , 2.54],\n",
       "       [1.12, 1.71],\n",
       "       [1.  , 1.84],\n",
       "       [1.4 , 2.48],\n",
       "       [1.2 , 1.8 ],\n",
       "       [1.64, 2.52],\n",
       "       [1.62, 2.5 ],\n",
       "       [0.94, 1.94],\n",
       "       [1.24, 1.78],\n",
       "       [1.28, 1.8 ],\n",
       "       [1.2 , 1.76]])"
      ]
     },
     "execution_count": 136,
     "metadata": {},
     "output_type": "execute_result"
    }
   ],
   "source": [
    "y_test"
   ]
  },
  {
   "cell_type": "code",
   "execution_count": 137,
   "id": "4dff3619",
   "metadata": {},
   "outputs": [
    {
     "data": {
      "text/plain": [
       "(0.8657176393875199, 0.07259450905460693, 0.00842055987671559)"
      ]
     },
     "execution_count": 137,
     "metadata": {},
     "output_type": "execute_result"
    }
   ],
   "source": [
    "# показатели качества\n",
    "# model quality\n",
    "r2_score(y_pred, y_test), mean_absolute_error(y_pred, y_test), mean_squared_error(y_pred, y_test)"
   ]
  },
  {
   "cell_type": "markdown",
   "id": "652d5716",
   "metadata": {},
   "source": [
    "Произведенные действия показывают, что точность модели сопоставима с линейной регрессией. Вероятно есть относительно простая линейная зависимость между входными параметрами и выходными данными. В готовом приложении буду использовать только линейную регрессию и случайный лес для данного конкретного датасета."
   ]
  },
  {
   "cell_type": "markdown",
   "id": "eff02b49",
   "metadata": {},
   "source": [
    "## Нейронная сеть / neural network"
   ]
  },
  {
   "cell_type": "markdown",
   "id": "14cb3772",
   "metadata": {},
   "source": [
    "Архитектура нейронной сети на keras представляет собой модель Sequential с тремя полносвязными слоями. Активационным функциями relu и сигмоиды. \n",
    "<br>\n",
    "Функция потерь - средняя абсолютная ошибка, метрика - точность, оптимизатор Adam - метод стохастического градиентного спуска со скоростью обучения 0.001"
   ]
  },
  {
   "cell_type": "code",
   "execution_count": 188,
   "id": "4327c386",
   "metadata": {},
   "outputs": [],
   "source": [
    "NN_model = tf.keras.models.Sequential([\n",
    "    tf.keras.layers.Dense(units=64, activation='relu'),\n",
    "    tf.keras.layers.Dense(units=100, activation='sigmoid'),\n",
    "    tf.keras.layers.Dense(units=2)\n",
    "])\n",
    "\n",
    "NN_model.compile(loss=tf.keras.losses.mean_absolute_error,\n",
    "                optimizer=tf.keras.optimizers.Adam(0.001),\n",
    "                metrics=['accuracy'])\n"
   ]
  },
  {
   "cell_type": "markdown",
   "id": "78b007db",
   "metadata": {},
   "source": [
    "Архитектура нейронной сети была подобрана экспериментально, функция relu как стандарт для задач регрессии по материалам обучения, сигмоида добавляена для создания элемента нелинейности. Количество нейронов на выходном слое соответствует число прогнозируемых данных (Width и Depth). Число нейронов на двух других слоях подобрано как минимально возможное для высокого качества модели на обучающих данных в условиях конкретной реализации. При уменьшении числа нейронов точность предсказания значительно падает, при увеличении - заметного роста не наблюдается."
   ]
  },
  {
   "cell_type": "code",
   "execution_count": 189,
   "id": "c33d54b6",
   "metadata": {},
   "outputs": [],
   "source": [
    "# обучение нейросети \n",
    "# neural net fitting\n",
    "history = NN_model.fit(\n",
    "    X_scaled,\n",
    "    y,\n",
    "    epochs=40,\n",
    "    verbose=0,\n",
    "    validation_data=(X_test,y_test)\n",
    ")"
   ]
  },
  {
   "cell_type": "markdown",
   "id": "5bf825b4",
   "metadata": {},
   "source": [
    "Нейронная сеть обучалась на всём имеющемся отмасштабированном массиве данных в связи с малым размером датасета. Число эпох = 40 также было подобрано экспериментально на нескольких прогонах, при уменьшении числа эпох точность теряется, при увеличении незначительно растёт, но есть риск переобучения."
   ]
  },
  {
   "cell_type": "code",
   "execution_count": 190,
   "id": "7bfcb016",
   "metadata": {},
   "outputs": [
    {
     "data": {
      "image/png": "[encoded data removed]",
      "text/plain": [
       "<Figure size 432x288 with 1 Axes>"
      ]
     },
     "metadata": {
      "needs_background": "light"
     },
     "output_type": "display_data"
    }
   ],
   "source": [
    "# визуализация\n",
    "# training visualization\n",
    "plt.title('Обучение')\n",
    "plt.xlabel('epochs')\n",
    "plt.ylabel('Cross_entropy')\n",
    "plt.plot(history.history['loss'], label='train')\n",
    "plt.plot(history.history['val_loss'], label='validation')\n",
    "plt.legend()\n",
    "plt.show()"
   ]
  },
  {
   "cell_type": "markdown",
   "id": "5cca7819",
   "metadata": {},
   "source": [
    "Выше представлена визуализация значений функции потерь в зависимости от числа эпох на тренировочной и тестовой выборках. Можно увидеть что нейросеть обучилось достаточно"
   ]
  },
  {
   "cell_type": "code",
   "execution_count": 191,
   "id": "7bdf93a2",
   "metadata": {},
   "outputs": [
    {
     "name": "stdout",
     "output_type": "stream",
     "text": [
      "WARNING:tensorflow:5 out of the last 5 calls to <function Model.make_predict_function.<locals>.predict_function at 0x000001A2E9B29040> triggered tf.function retracing. Tracing is expensive and the excessive number of tracings could be due to (1) creating @tf.function repeatedly in a loop, (2) passing tensors with different shapes, (3) passing Python objects instead of tensors. For (1), please define your @tf.function outside of the loop. For (2), @tf.function has reduce_retracing=True option that can avoid unnecessary retracing. For (3), please refer to https://www.tensorflow.org/guide/function#controlling_retracing and https://www.tensorflow.org/api_docs/python/tf/function for  more details.\n",
      "1/1 [==============================] - 0s 67ms/step\n"
     ]
    }
   ],
   "source": [
    "y_pred = NN_model.predict(X_test)"
   ]
  },
  {
   "cell_type": "code",
   "execution_count": 145,
   "id": "216726aa",
   "metadata": {},
   "outputs": [
    {
     "data": {
      "text/plain": [
       "array([[1.0155966 , 1.8655343 ],\n",
       "       [1.0155966 , 1.8655343 ],\n",
       "       [0.93991065, 1.9545974 ],\n",
       "       [1.1049832 , 1.8151422 ],\n",
       "       [1.5566865 , 2.504301  ],\n",
       "       [1.121251  , 1.7721658 ],\n",
       "       [1.1049832 , 1.8151422 ],\n",
       "       [1.5566865 , 2.504301  ],\n",
       "       [1.121251  , 1.7721658 ],\n",
       "       [1.6498266 , 2.5021071 ],\n",
       "       [1.5566865 , 2.504301  ],\n",
       "       [0.93991065, 1.9545974 ],\n",
       "       [1.1794316 , 1.7998692 ],\n",
       "       [1.2980679 , 1.7702386 ],\n",
       "       [1.1854885 , 1.8059728 ]], dtype=float32)"
      ]
     },
     "execution_count": 145,
     "metadata": {},
     "output_type": "execute_result"
    }
   ],
   "source": [
    "y_pred"
   ]
  },
  {
   "cell_type": "code",
   "execution_count": 192,
   "id": "08794b53",
   "metadata": {},
   "outputs": [
    {
     "data": {
      "text/plain": [
       "array([[1.  , 1.86],\n",
       "       [1.04, 1.9 ],\n",
       "       [0.96, 2.  ],\n",
       "       [1.2 , 1.86],\n",
       "       [1.6 , 2.54],\n",
       "       [1.12, 1.71],\n",
       "       [1.  , 1.84],\n",
       "       [1.4 , 2.48],\n",
       "       [1.2 , 1.8 ],\n",
       "       [1.64, 2.52],\n",
       "       [1.62, 2.5 ],\n",
       "       [0.94, 1.94],\n",
       "       [1.24, 1.78],\n",
       "       [1.28, 1.8 ],\n",
       "       [1.2 , 1.76]])"
      ]
     },
     "execution_count": 192,
     "metadata": {},
     "output_type": "execute_result"
    }
   ],
   "source": [
    "y_test"
   ]
  },
  {
   "cell_type": "code",
   "execution_count": 193,
   "id": "77ec4dee",
   "metadata": {},
   "outputs": [
    {
     "data": {
      "text/plain": [
       "0.0052372805482257066"
      ]
     },
     "execution_count": 193,
     "metadata": {},
     "output_type": "execute_result"
    }
   ],
   "source": [
    "mean_squared_error(y_test, y_pred)"
   ]
  },
  {
   "cell_type": "code",
   "execution_count": 194,
   "id": "2390d6ad",
   "metadata": {},
   "outputs": [
    {
     "data": {
      "text/plain": [
       "(0.05564045302073162, 0.9263122695767945)"
      ]
     },
     "execution_count": 194,
     "metadata": {},
     "output_type": "execute_result"
    }
   ],
   "source": [
    "# средняя абс ошибка и коэф детерминации\n",
    "# MAE and R2 coef\n",
    "mean_absolute_error(y_test, y_pred), r2_score(y_test, y_pred)"
   ]
  },
  {
   "cell_type": "code",
   "execution_count": 195,
   "id": "183c6fa1",
   "metadata": {},
   "outputs": [
    {
     "data": {
      "text/plain": [
       "array([[ 0.2       , -0.06523281,  0.66502222,  0.07808688]])"
      ]
     },
     "execution_count": 195,
     "metadata": {},
     "output_type": "execute_result"
    }
   ],
   "source": [
    "# тестируем возможный пользовательский ввод на примерах из датасета\n",
    "# testing possible user inputs on dataset examples\n",
    "scaler.transform(np.array([[46., 141., 10.0, 80.]]))"
   ]
  },
  {
   "cell_type": "code",
   "execution_count": 196,
   "id": "a2b09fab",
   "metadata": {},
   "outputs": [
    {
     "data": {
      "text/plain": [
       "(array([ 0.2       , -0.06523281,  0.66502222,  0.07808688]),\n",
       " array([1.16, 1.8 ]))"
      ]
     },
     "execution_count": 196,
     "metadata": {},
     "output_type": "execute_result"
    }
   ],
   "source": [
    "# сравниваем\n",
    "# compare\n",
    "X_scaled[19], y[19]"
   ]
  },
  {
   "cell_type": "code",
   "execution_count": 197,
   "id": "22b3d2c0",
   "metadata": {},
   "outputs": [
    {
     "name": "stdout",
     "output_type": "stream",
     "text": [
      "1/1 [==============================] - 0s 32ms/step\n"
     ]
    },
    {
     "data": {
      "text/plain": [
       "array([[1.1094687, 1.767971 ]], dtype=float32)"
      ]
     },
     "execution_count": 197,
     "metadata": {},
     "output_type": "execute_result"
    }
   ],
   "source": [
    "NN_model.predict(scaler.transform(np.array([[46., 141., 10.0, 80.]])))"
   ]
  },
  {
   "cell_type": "code",
   "execution_count": 198,
   "id": "8e4c44b7",
   "metadata": {},
   "outputs": [
    {
     "name": "stdout",
     "output_type": "stream",
     "text": [
      "1/1 [==============================] - 0s 23ms/step\n"
     ]
    },
    {
     "data": {
      "text/plain": [
       "array([[0.9268563, 1.975883 ]], dtype=float32)"
      ]
     },
     "execution_count": 198,
     "metadata": {},
     "output_type": "execute_result"
    }
   ],
   "source": [
    "NN_model.predict(scaler.transform(np.array([[47., 134., 10.0, 110.]])))"
   ]
  },
  {
   "cell_type": "code",
   "execution_count": 199,
   "id": "e6e1d065",
   "metadata": {},
   "outputs": [
    {
     "data": {
      "text/plain": [
       "(array([ 0.8       , -1.43512176,  0.66502222,  1.48365074]),\n",
       " array([0.94, 1.94]))"
      ]
     },
     "execution_count": 199,
     "metadata": {},
     "output_type": "execute_result"
    }
   ],
   "source": [
    "X_scaled[27], y[27]"
   ]
  },
  {
   "cell_type": "code",
   "execution_count": 200,
   "id": "c0630a45",
   "metadata": {},
   "outputs": [
    {
     "name": "stdout",
     "output_type": "stream",
     "text": [
      "INFO:tensorflow:Assets written to: nn_model\\assets\n"
     ]
    }
   ],
   "source": [
    "# сохраняем средствами keras для будущего использования\n",
    "# save for future use\n",
    "NN_model.save('nn_model')"
   ]
  },
  {
   "cell_type": "code",
   "execution_count": 201,
   "id": "3c56bb09",
   "metadata": {},
   "outputs": [],
   "source": [
    "# тест загрузки сохраненной модели\n",
    "# test if it loads ok\n",
    "loaded_model = tf.keras.models.load_model('nn_model')"
   ]
  },
  {
   "cell_type": "code",
   "execution_count": 203,
   "id": "c261ffc3",
   "metadata": {},
   "outputs": [
    {
     "name": "stdout",
     "output_type": "stream",
     "text": [
      "1/1 [==============================] - 0s 24ms/step\n"
     ]
    },
    {
     "data": {
      "text/plain": [
       "array([[0.9268563, 1.975883 ]], dtype=float32)"
      ]
     },
     "execution_count": 203,
     "metadata": {},
     "output_type": "execute_result"
    }
   ],
   "source": [
    "# тест предсказаний\n",
    "# prediction test\n",
    "loaded_model.predict(scaler.transform(np.array([[47., 134., 10.0, 110.]])))"
   ]
  },
  {
   "cell_type": "markdown",
   "id": "5c3fd388",
   "metadata": {},
   "source": [
    "По итогам представленной выше работы можно сделать вывод о том, что удалось применить несколько моделей машинного обучения на исходном датасете, сохранить их для дальнейшего использования, и получить результаты с установленной точностью."
   ]
  }
 ],
 "metadata": {
  "kernelspec": {
   "display_name": "Python 3.9.12 ('base')",
   "language": "python",
   "name": "python3"
  },
  "language_info": {
   "codemirror_mode": {
    "name": "ipython",
    "version": 3
   },
   "file_extension": ".py",
   "mimetype": "text/x-python",
   "name": "python",
   "nbconvert_exporter": "python",
   "pygments_lexer": "ipython3",
   "version": "3.9.12"
  },
  "vscode": {
   "interpreter": {
    "hash": "ad2bdc8ecc057115af97d19610ffacc2b4e99fae6737bb82f5d7fb13d2f2c186"
   }
  }
 },
 "nbformat": 4,
 "nbformat_minor": 5
}
