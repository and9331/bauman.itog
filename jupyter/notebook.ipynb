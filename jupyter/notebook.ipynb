{
 "cells": [
  {
   "cell_type": "markdown",
   "id": "7079bb4b",
   "metadata": {},
   "source": [
    "## Импорт / import"
   ]
  },
  {
   "cell_type": "markdown",
   "id": "f5251a97",
   "metadata": {},
   "source": [
    "Необходимые библитеки и модули:\n",
    "<br>\n",
    "pandas - для загрузки датасета, исследования и предварительного анализа\n",
    "<br>\n",
    "numpy - для работы с массивами и тензорами\n",
    "<br>\n",
    "pickle - для сохранения объектов моделей в файлы\n",
    "<br>\n",
    "maptplotlib.pyplot, seaborn - для построения графиков, визуализации\n",
    "<br>\n",
    "sklearn - основная библитека машинного обучения\n",
    "<br>\n",
    "<br>\n",
    "из неё применяются:\n",
    "<br>\n",
    "<br>\n",
    "StandartScaler - для масштабирования входных параметров\n",
    "<br>\n",
    "train_test_split - для разделения выборки на тренировочную и тестовую\n",
    "<br>\n",
    "LinearRegression - простая модель линейной регрессии\n",
    "<br>\n",
    "RandomForestRegressor - анасамбль случайный лес из решающих деревьев\n",
    "<br>\n",
    "mean_squared_error - среднеквадратичная ошибка\n",
    "<br>\n",
    "r2_score - коэффициент детерминации\n",
    "<br>\n",
    "mean_absolute_error - средняя абсолютная ошибка\n",
    "\n",
    "<br>\n",
    "<br>\n",
    "tensorflow - одна из основных библиотек разработки нейронных сетей, в данной работе используется tensorflow.keras"
   ]
  },
  {
   "cell_type": "code",
   "execution_count": 2,
   "id": "d1ab3ca9",
   "metadata": {},
   "outputs": [],
   "source": [
    "import pandas as pd\n",
    "import numpy as np\n",
    "import pickle\n",
    "import matplotlib.pyplot as plt\n",
    "import seaborn as sns\n",
    "\n",
    "%matplotlib inline\n",
    "\n",
    "from sklearn.preprocessing import StandardScaler\n",
    "from sklearn.model_selection import train_test_split\n",
    "from sklearn.linear_model import LinearRegression\n",
    "from sklearn.metrics import mean_squared_error, r2_score, mean_absolute_error\n",
    "from sklearn.ensemble import RandomForestRegressor\n",
    "\n",
    "import tensorflow as tf"
   ]
  },
  {
   "cell_type": "markdown",
   "id": "e1c8cf43",
   "metadata": {},
   "source": [
    "## Анализ данных / analysis"
   ]
  },
  {
   "cell_type": "markdown",
   "id": "d1a32ce3",
   "metadata": {},
   "source": [
    "Производится загрузка, анализ и дальнейшая обработка датасета по кейсу электронно-лучевой сварки\n",
    "<br>\n",
    "Electron beam welding case dataset loading, analysis and processing"
   ]
  },
  {
   "cell_type": "code",
   "execution_count": 3,
   "id": "2aa98e10",
   "metadata": {},
   "outputs": [],
   "source": [
    "# загружаем исходный датасет\n",
    "# load original dataset\n",
    "data = pd.read_csv('ebw_data.csv')"
   ]
  },
  {
   "cell_type": "code",
   "execution_count": 4,
   "id": "a6a1d970",
   "metadata": {},
   "outputs": [
    {
     "data": {
      "text/html": [
       "<div>\n",
       "<style scoped>\n",
       "    .dataframe tbody tr th:only-of-type {\n",
       "        vertical-align: middle;\n",
       "    }\n",
       "\n",
       "    .dataframe tbody tr th {\n",
       "        vertical-align: top;\n",
       "    }\n",
       "\n",
       "    .dataframe thead th {\n",
       "        text-align: right;\n",
       "    }\n",
       "</style>\n",
       "<table border=\"1\" class=\"dataframe\">\n",
       "  <thead>\n",
       "    <tr style=\"text-align: right;\">\n",
       "      <th></th>\n",
       "      <th>IW</th>\n",
       "      <th>IF</th>\n",
       "      <th>VW</th>\n",
       "      <th>FP</th>\n",
       "      <th>Depth</th>\n",
       "      <th>Width</th>\n",
       "    </tr>\n",
       "  </thead>\n",
       "  <tbody>\n",
       "    <tr>\n",
       "      <th>0</th>\n",
       "      <td>47</td>\n",
       "      <td>139</td>\n",
       "      <td>4.5</td>\n",
       "      <td>80</td>\n",
       "      <td>1.60</td>\n",
       "      <td>2.54</td>\n",
       "    </tr>\n",
       "    <tr>\n",
       "      <th>1</th>\n",
       "      <td>47</td>\n",
       "      <td>139</td>\n",
       "      <td>4.5</td>\n",
       "      <td>80</td>\n",
       "      <td>1.62</td>\n",
       "      <td>2.50</td>\n",
       "    </tr>\n",
       "    <tr>\n",
       "      <th>2</th>\n",
       "      <td>47</td>\n",
       "      <td>139</td>\n",
       "      <td>4.5</td>\n",
       "      <td>80</td>\n",
       "      <td>1.68</td>\n",
       "      <td>2.60</td>\n",
       "    </tr>\n",
       "    <tr>\n",
       "      <th>3</th>\n",
       "      <td>47</td>\n",
       "      <td>139</td>\n",
       "      <td>4.5</td>\n",
       "      <td>80</td>\n",
       "      <td>1.58</td>\n",
       "      <td>2.52</td>\n",
       "    </tr>\n",
       "    <tr>\n",
       "      <th>4</th>\n",
       "      <td>45</td>\n",
       "      <td>140</td>\n",
       "      <td>4.5</td>\n",
       "      <td>80</td>\n",
       "      <td>1.76</td>\n",
       "      <td>2.48</td>\n",
       "    </tr>\n",
       "  </tbody>\n",
       "</table>\n",
       "</div>"
      ],
      "text/plain": [
       "   IW   IF   VW  FP  Depth  Width\n",
       "0  47  139  4.5  80   1.60   2.54\n",
       "1  47  139  4.5  80   1.62   2.50\n",
       "2  47  139  4.5  80   1.68   2.60\n",
       "3  47  139  4.5  80   1.58   2.52\n",
       "4  45  140  4.5  80   1.76   2.48"
      ]
     },
     "execution_count": 4,
     "metadata": {},
     "output_type": "execute_result"
    }
   ],
   "source": [
    "# первые 5 элементов\n",
    "# first 5 elements\n",
    "data.head(5)"
   ]
  },
  {
   "cell_type": "markdown",
   "id": "18b901c2",
   "metadata": {},
   "source": [
    "IW; IF; VW; FP - входные параметры / input parameters\n",
    "<br>\n",
    "Depth, Width - целевой выход / target output"
   ]
  },
  {
   "cell_type": "code",
   "execution_count": 6,
   "id": "d5e544e8",
   "metadata": {},
   "outputs": [
    {
     "data": {
      "text/html": [
       "<div>\n",
       "<style scoped>\n",
       "    .dataframe tbody tr th:only-of-type {\n",
       "        vertical-align: middle;\n",
       "    }\n",
       "\n",
       "    .dataframe tbody tr th {\n",
       "        vertical-align: top;\n",
       "    }\n",
       "\n",
       "    .dataframe thead th {\n",
       "        text-align: right;\n",
       "    }\n",
       "</style>\n",
       "<table border=\"1\" class=\"dataframe\">\n",
       "  <thead>\n",
       "    <tr style=\"text-align: right;\">\n",
       "      <th></th>\n",
       "      <th>count</th>\n",
       "      <th>mean</th>\n",
       "      <th>std</th>\n",
       "      <th>min</th>\n",
       "      <th>25%</th>\n",
       "      <th>50%</th>\n",
       "      <th>75%</th>\n",
       "      <th>max</th>\n",
       "    </tr>\n",
       "  </thead>\n",
       "  <tbody>\n",
       "    <tr>\n",
       "      <th>IW</th>\n",
       "      <td>72.0</td>\n",
       "      <td>45.666667</td>\n",
       "      <td>1.678363</td>\n",
       "      <td>43.00</td>\n",
       "      <td>44.00</td>\n",
       "      <td>45.50</td>\n",
       "      <td>47.00</td>\n",
       "      <td>49.00</td>\n",
       "    </tr>\n",
       "    <tr>\n",
       "      <th>IF</th>\n",
       "      <td>72.0</td>\n",
       "      <td>141.333333</td>\n",
       "      <td>5.145763</td>\n",
       "      <td>131.00</td>\n",
       "      <td>139.00</td>\n",
       "      <td>141.00</td>\n",
       "      <td>146.00</td>\n",
       "      <td>150.00</td>\n",
       "    </tr>\n",
       "    <tr>\n",
       "      <th>VW</th>\n",
       "      <td>72.0</td>\n",
       "      <td>8.638889</td>\n",
       "      <td>2.061078</td>\n",
       "      <td>4.50</td>\n",
       "      <td>8.00</td>\n",
       "      <td>9.00</td>\n",
       "      <td>10.00</td>\n",
       "      <td>12.00</td>\n",
       "    </tr>\n",
       "    <tr>\n",
       "      <th>FP</th>\n",
       "      <td>72.0</td>\n",
       "      <td>78.333333</td>\n",
       "      <td>21.493530</td>\n",
       "      <td>50.00</td>\n",
       "      <td>60.00</td>\n",
       "      <td>80.00</td>\n",
       "      <td>80.00</td>\n",
       "      <td>125.00</td>\n",
       "    </tr>\n",
       "    <tr>\n",
       "      <th>Depth</th>\n",
       "      <td>72.0</td>\n",
       "      <td>1.195556</td>\n",
       "      <td>0.225081</td>\n",
       "      <td>0.80</td>\n",
       "      <td>1.08</td>\n",
       "      <td>1.20</td>\n",
       "      <td>1.29</td>\n",
       "      <td>1.76</td>\n",
       "    </tr>\n",
       "    <tr>\n",
       "      <th>Width</th>\n",
       "      <td>72.0</td>\n",
       "      <td>1.970417</td>\n",
       "      <td>0.279040</td>\n",
       "      <td>1.68</td>\n",
       "      <td>1.76</td>\n",
       "      <td>1.84</td>\n",
       "      <td>2.05</td>\n",
       "      <td>2.60</td>\n",
       "    </tr>\n",
       "  </tbody>\n",
       "</table>\n",
       "</div>"
      ],
      "text/plain": [
       "       count        mean        std     min     25%     50%     75%     max\n",
       "IW      72.0   45.666667   1.678363   43.00   44.00   45.50   47.00   49.00\n",
       "IF      72.0  141.333333   5.145763  131.00  139.00  141.00  146.00  150.00\n",
       "VW      72.0    8.638889   2.061078    4.50    8.00    9.00   10.00   12.00\n",
       "FP      72.0   78.333333  21.493530   50.00   60.00   80.00   80.00  125.00\n",
       "Depth   72.0    1.195556   0.225081    0.80    1.08    1.20    1.29    1.76\n",
       "Width   72.0    1.970417   0.279040    1.68    1.76    1.84    2.05    2.60"
      ]
     },
     "execution_count": 6,
     "metadata": {},
     "output_type": "execute_result"
    }
   ],
   "source": [
    "# описание датасета\n",
    "# dataset description\n",
    "data.describe().T"
   ]
  },
  {
   "cell_type": "markdown",
   "id": "973685e6",
   "metadata": {},
   "source": [
    "Большого разброса между максимумом и минимум по входным параметрам не обнаружено\n",
    "<br>\n",
    "Построим несколько графиков чтобы это продемонстрировать\n"
   ]
  },
  {
   "cell_type": "code",
   "execution_count": 7,
   "id": "7e95ab47",
   "metadata": {},
   "outputs": [
    {
     "data": {
      "image/png": "[encoded data removed]",
      "text/plain": [
       "<Figure size 1224x72 with 1 Axes>"
      ]
     },
     "metadata": {
      "needs_background": "light"
     },
     "output_type": "display_data"
    },
    {
     "data": {
      "image/png": "[encoded data removed]",
      "text/plain": [
       "<Figure size 1224x72 with 1 Axes>"
      ]
     },
     "metadata": {
      "needs_background": "light"
     },
     "output_type": "display_data"
    },
    {
     "data": {
      "image/png": "[encoded data removed]",
      "text/plain": [
       "<Figure size 1224x72 with 1 Axes>"
      ]
     },
     "metadata": {
      "needs_background": "light"
     },
     "output_type": "display_data"
    },
    {
     "data": {
      "image/png": "[encoded data removed]",
      "text/plain": [
       "<Figure size 1224x72 with 1 Axes>"
      ]
     },
     "metadata": {
      "needs_background": "light"
     },
     "output_type": "display_data"
    }
   ],
   "source": [
    "for column in data[['IW','IF','VW','FP']]:\n",
    "        plt.figure(figsize=(17,1))\n",
    "        plt.title(column)\n",
    "        sns.boxplot(data=data, x=column)"
   ]
  },
  {
   "cell_type": "code",
   "execution_count": 8,
   "id": "161bd5b1",
   "metadata": {},
   "outputs": [
    {
     "name": "stdout",
     "output_type": "stream",
     "text": [
      "<class 'pandas.core.frame.DataFrame'>\n",
      "RangeIndex: 72 entries, 0 to 71\n",
      "Data columns (total 6 columns):\n",
      " #   Column  Non-Null Count  Dtype  \n",
      "---  ------  --------------  -----  \n",
      " 0   IW      72 non-null     int64  \n",
      " 1   IF      72 non-null     int64  \n",
      " 2   VW      72 non-null     float64\n",
      " 3   FP      72 non-null     int64  \n",
      " 4   Depth   72 non-null     float64\n",
      " 5   Width   72 non-null     float64\n",
      "dtypes: float64(3), int64(3)\n",
      "memory usage: 3.5 KB\n"
     ]
    }
   ],
   "source": [
    "# базовая информация о датасете\n",
    "# dataset basic info\n",
    "data.info()"
   ]
  },
  {
   "cell_type": "markdown",
   "id": "774eddd8",
   "metadata": {},
   "source": [
    "Из информации о датасете видно, что все строки представляют собой целые числа или числа с плавающей точкой.\n",
    "<br>\n",
    "Пропусков в датасете нет, а потому не требуется обработка и замена пропусков.\n",
    "<br>\n",
    "Кроме того, нет категориальных признаков, к котором можно было бы применять кодирование (прим, LabelEncdoing или метод pandas.get_dummies())\n",
    "<br>"
   ]
  },
  {
   "cell_type": "code",
   "execution_count": 9,
   "id": "ac06be72",
   "metadata": {},
   "outputs": [
    {
     "data": {
      "text/html": [
       "<div>\n",
       "<style scoped>\n",
       "    .dataframe tbody tr th:only-of-type {\n",
       "        vertical-align: middle;\n",
       "    }\n",
       "\n",
       "    .dataframe tbody tr th {\n",
       "        vertical-align: top;\n",
       "    }\n",
       "\n",
       "    .dataframe thead th {\n",
       "        text-align: right;\n",
       "    }\n",
       "</style>\n",
       "<table border=\"1\" class=\"dataframe\">\n",
       "  <thead>\n",
       "    <tr style=\"text-align: right;\">\n",
       "      <th></th>\n",
       "      <th>IW</th>\n",
       "      <th>IF</th>\n",
       "      <th>VW</th>\n",
       "      <th>FP</th>\n",
       "      <th>Depth</th>\n",
       "      <th>Width</th>\n",
       "    </tr>\n",
       "  </thead>\n",
       "  <tbody>\n",
       "    <tr>\n",
       "      <th>IW</th>\n",
       "      <td>1.000000</td>\n",
       "      <td>-0.861073</td>\n",
       "      <td>-0.043430</td>\n",
       "      <td>0.835530</td>\n",
       "      <td>-0.289568</td>\n",
       "      <td>0.434869</td>\n",
       "    </tr>\n",
       "    <tr>\n",
       "      <th>IF</th>\n",
       "      <td>-0.861073</td>\n",
       "      <td>1.000000</td>\n",
       "      <td>0.115093</td>\n",
       "      <td>-0.980562</td>\n",
       "      <td>0.376084</td>\n",
       "      <td>-0.510167</td>\n",
       "    </tr>\n",
       "    <tr>\n",
       "      <th>VW</th>\n",
       "      <td>-0.043430</td>\n",
       "      <td>0.115093</td>\n",
       "      <td>1.000000</td>\n",
       "      <td>-0.001060</td>\n",
       "      <td>-0.671437</td>\n",
       "      <td>-0.874257</td>\n",
       "    </tr>\n",
       "    <tr>\n",
       "      <th>FP</th>\n",
       "      <td>0.835530</td>\n",
       "      <td>-0.980562</td>\n",
       "      <td>-0.001060</td>\n",
       "      <td>1.000000</td>\n",
       "      <td>-0.510748</td>\n",
       "      <td>0.412962</td>\n",
       "    </tr>\n",
       "    <tr>\n",
       "      <th>Depth</th>\n",
       "      <td>-0.289568</td>\n",
       "      <td>0.376084</td>\n",
       "      <td>-0.671437</td>\n",
       "      <td>-0.510748</td>\n",
       "      <td>1.000000</td>\n",
       "      <td>0.425391</td>\n",
       "    </tr>\n",
       "    <tr>\n",
       "      <th>Width</th>\n",
       "      <td>0.434869</td>\n",
       "      <td>-0.510167</td>\n",
       "      <td>-0.874257</td>\n",
       "      <td>0.412962</td>\n",
       "      <td>0.425391</td>\n",
       "      <td>1.000000</td>\n",
       "    </tr>\n",
       "  </tbody>\n",
       "</table>\n",
       "</div>"
      ],
      "text/plain": [
       "             IW        IF        VW        FP     Depth     Width\n",
       "IW     1.000000 -0.861073 -0.043430  0.835530 -0.289568  0.434869\n",
       "IF    -0.861073  1.000000  0.115093 -0.980562  0.376084 -0.510167\n",
       "VW    -0.043430  0.115093  1.000000 -0.001060 -0.671437 -0.874257\n",
       "FP     0.835530 -0.980562 -0.001060  1.000000 -0.510748  0.412962\n",
       "Depth -0.289568  0.376084 -0.671437 -0.510748  1.000000  0.425391\n",
       "Width  0.434869 -0.510167 -0.874257  0.412962  0.425391  1.000000"
      ]
     },
     "execution_count": 9,
     "metadata": {},
     "output_type": "execute_result"
    }
   ],
   "source": [
    "# корреляционная матрица\n",
    "# correlation matrix\n",
    "data.corr()"
   ]
  },
  {
   "cell_type": "markdown",
   "id": "96bd4388",
   "metadata": {},
   "source": [
    "Согласно корреляционной матрице прослеживается определенная корреляция между параметрами. Как прямая — стремится к 1, так и обратная — к -1.\n",
    "<br>\n",
    "В данном случае больше всего интересуют с чем коррелируются показатели Depth и Width. По таблице выше можно сделать вывод, что все 4 входных параметра требуются и никакие столбцы удалять не стоит."
   ]
  },
  {
   "cell_type": "markdown",
   "id": "28659b4f",
   "metadata": {},
   "source": [
    "## Предобработка / preprocessing"
   ]
  },
  {
   "cell_type": "code",
   "execution_count": 10,
   "id": "22d1147e",
   "metadata": {},
   "outputs": [],
   "source": [
    "# целевые сразу глубина и ширина\n",
    "# targets are depth and width\n",
    "y = np.array(data[['Depth', 'Width']])"
   ]
  },
  {
   "cell_type": "code",
   "execution_count": 11,
   "id": "7538f6a8",
   "metadata": {},
   "outputs": [
    {
     "data": {
      "text/plain": [
       "array([[1.6 , 2.54],\n",
       "       [1.62, 2.5 ],\n",
       "       [1.68, 2.6 ],\n",
       "       [1.58, 2.52],\n",
       "       [1.76, 2.48]])"
      ]
     },
     "execution_count": 11,
     "metadata": {},
     "output_type": "execute_result"
    }
   ],
   "source": [
    "y[:5]"
   ]
  },
  {
   "cell_type": "code",
   "execution_count": 12,
   "id": "96ba8f67",
   "metadata": {},
   "outputs": [],
   "source": [
    "# переводим параметры в numpy array\n",
    "# transform parameters to np array\n",
    "X = np.array(data[['IW','IF','VW','FP']])"
   ]
  },
  {
   "cell_type": "code",
   "execution_count": 13,
   "id": "83beb47f",
   "metadata": {},
   "outputs": [
    {
     "data": {
      "text/plain": [
       "array([[ 47. , 139. ,   4.5,  80. ],\n",
       "       [ 47. , 139. ,   4.5,  80. ],\n",
       "       [ 47. , 139. ,   4.5,  80. ],\n",
       "       [ 47. , 139. ,   4.5,  80. ],\n",
       "       [ 45. , 140. ,   4.5,  80. ]])"
      ]
     },
     "execution_count": 13,
     "metadata": {},
     "output_type": "execute_result"
    }
   ],
   "source": [
    "X[:5]"
   ]
  },
  {
   "cell_type": "code",
   "execution_count": 14,
   "id": "a432b03a",
   "metadata": {},
   "outputs": [],
   "source": [
    "# обучаем на исходном датасете стандартизатор\n",
    "# fitting scaler with original dataset\n",
    "scaler = StandardScaler().fit(X)"
   ]
  },
  {
   "cell_type": "code",
   "execution_count": 15,
   "id": "a43cc127",
   "metadata": {},
   "outputs": [],
   "source": [
    "# сохраним для будущего использования вне ноутбука\n",
    "# save for future use, outside this notebook\n",
    "pickle.dump(scaler, open('scaler.pkl', 'wb'))"
   ]
  },
  {
   "cell_type": "code",
   "execution_count": 16,
   "id": "2a979e97",
   "metadata": {},
   "outputs": [],
   "source": [
    "# масштабируем\n",
    "# scaling\n",
    "X_scaled = scaler.transform(X)"
   ]
  },
  {
   "cell_type": "code",
   "execution_count": 17,
   "id": "81d0ad29",
   "metadata": {},
   "outputs": [
    {
     "data": {
      "text/plain": [
       "array([[ 0.8       , -0.45662965, -2.02221044,  0.07808688],\n",
       "       [ 0.8       , -0.45662965, -2.02221044,  0.07808688],\n",
       "       [ 0.8       , -0.45662965, -2.02221044,  0.07808688],\n",
       "       [ 0.8       , -0.45662965, -2.02221044,  0.07808688],\n",
       "       [-0.4       , -0.26093123, -2.02221044,  0.07808688]])"
      ]
     },
     "execution_count": 17,
     "metadata": {},
     "output_type": "execute_result"
    }
   ],
   "source": [
    "X_scaled[:5]"
   ]
  },
  {
   "cell_type": "markdown",
   "id": "d69c1d9d",
   "metadata": {},
   "source": [
    "## Обучение и проверка моделей / Model train and test"
   ]
  },
  {
   "cell_type": "markdown",
   "id": "5529b271",
   "metadata": {},
   "source": [
    "Далее будут рассмотрены и обучены несколько моделей машинного обучения. Здесь и далее (и в разделе \"Нейросеть\") буду считать, что достаточным критерием точности и качества работы использованных и настроенных мной моделей будут являться:"
   ]
  },
  {
   "cell_type": "markdown",
   "id": "fe5168ed",
   "metadata": {},
   "source": [
    "mean_squared_error - среднеквадратичная ошибка, не более 0.01\n",
    "<br>\n",
    "mean_absolute_error - средняя абсолютная ошибка, не более 0.1\n",
    "<br>\n",
    "r2_score - коэффициент детерминации R2, не менее 0.80\n",
    "<br>"
   ]
  },
  {
   "cell_type": "markdown",
   "id": "df86ef09",
   "metadata": {},
   "source": [
    "В дальнейшем буду подбирать параметры моделей и осуществлять их выбор исходя из этих критериев. Беру относительно большие значения, т.к. исходный датасет имеет всего 72 элемента и может не позволить обеспечить более точные предсказания в различных ситуациях реальной деятельности. Попытка получить коэффициенты превышающие обозначенные мной выше показатели могут свидетельствовать о переобучении модели, т.е. о возможности крайне точных предсказаний на исходном датасете при невозможности или низкой точности предсказаний на других реальных параметрах."
   ]
  },
  {
   "cell_type": "code",
   "execution_count": 18,
   "id": "f90bc8c4",
   "metadata": {},
   "outputs": [],
   "source": [
    "# делим на тестовую и тренировочную выборки, перемешиваем, 20% на тест\n",
    "# splitting to test and train, shuffling, 20% to the test\n",
    "X_train, X_test, y_train, y_test = train_test_split(X_scaled, y, test_size=0.2, shuffle=True)"
   ]
  },
  {
   "cell_type": "code",
   "execution_count": 19,
   "id": "3826c651",
   "metadata": {},
   "outputs": [],
   "source": [
    "# тренируем простую линеную регрессию\n",
    "# training simple linear regression\n",
    "linear_model = LinearRegression().fit(X_train, y_train)"
   ]
  },
  {
   "cell_type": "code",
   "execution_count": 20,
   "id": "2b45a237",
   "metadata": {},
   "outputs": [],
   "source": [
    "# сохраняем для использования в веб-приложении\n",
    "# save for web-application use\n",
    "pickle.dump(linear_model, open('linear_model.pkl', 'wb'))"
   ]
  },
  {
   "cell_type": "code",
   "execution_count": 21,
   "id": "11d43f33",
   "metadata": {},
   "outputs": [],
   "source": [
    "# предсказания\n",
    "# predictions\n",
    "y_pred = linear_model.predict(X_test)"
   ]
  },
  {
   "cell_type": "code",
   "execution_count": 22,
   "id": "0e1fa950",
   "metadata": {},
   "outputs": [
    {
     "data": {
      "text/plain": [
       "array([[1.20039781, 1.83103507],\n",
       "       [1.02365347, 1.59593317],\n",
       "       [1.23999259, 1.78760495],\n",
       "       [1.54597118, 2.49186503],\n",
       "       [1.11365104, 1.78976145],\n",
       "       [0.85216132, 2.31759323],\n",
       "       [1.54597118, 2.49186503],\n",
       "       [1.20039781, 1.83103507],\n",
       "       [1.20146998, 1.74013571],\n",
       "       [1.29039537, 2.02486334],\n",
       "       [1.02365347, 1.59593317],\n",
       "       [1.54597118, 2.49186503],\n",
       "       [1.20039781, 1.83103507],\n",
       "       [1.11365104, 1.78976145],\n",
       "       [1.11688912, 1.8144839 ]])"
      ]
     },
     "execution_count": 22,
     "metadata": {},
     "output_type": "execute_result"
    }
   ],
   "source": [
    "y_pred"
   ]
  },
  {
   "cell_type": "code",
   "execution_count": 23,
   "id": "8eb8f07d",
   "metadata": {},
   "outputs": [
    {
     "data": {
      "text/plain": [
       "array([[1.12, 1.8 ],\n",
       "       [1.08, 1.72],\n",
       "       [1.24, 1.8 ],\n",
       "       [1.6 , 2.54],\n",
       "       [1.02, 1.84],\n",
       "       [0.84, 2.24],\n",
       "       [1.68, 2.6 ],\n",
       "       [1.12, 1.76],\n",
       "       [1.36, 1.76],\n",
       "       [1.16, 1.96],\n",
       "       [1.2 , 1.8 ],\n",
       "       [1.62, 2.5 ],\n",
       "       [1.22, 1.82],\n",
       "       [0.98, 1.84],\n",
       "       [1.  , 1.84]])"
      ]
     },
     "execution_count": 23,
     "metadata": {},
     "output_type": "execute_result"
    }
   ],
   "source": [
    "y_test"
   ]
  },
  {
   "cell_type": "code",
   "execution_count": 24,
   "id": "578be877",
   "metadata": {},
   "outputs": [
    {
     "data": {
      "text/plain": [
       "0.008341499606362261"
      ]
     },
     "execution_count": 24,
     "metadata": {},
     "output_type": "execute_result"
    }
   ],
   "source": [
    "# среднеквадратичная ошибка\n",
    "mean_squared_error(y_test, y_pred)"
   ]
  },
  {
   "cell_type": "code",
   "execution_count": 25,
   "id": "fcbdaa5e",
   "metadata": {},
   "outputs": [
    {
     "data": {
      "text/plain": [
       "0.0742271852300554"
      ]
     },
     "execution_count": 25,
     "metadata": {},
     "output_type": "execute_result"
    }
   ],
   "source": [
    "# средняя абсолютная ошибка\n",
    "mean_absolute_error(y_test, y_pred)"
   ]
  },
  {
   "cell_type": "code",
   "execution_count": 26,
   "id": "8abc86aa",
   "metadata": {},
   "outputs": [
    {
     "data": {
      "text/plain": [
       "0.8760967763192049"
      ]
     },
     "execution_count": 26,
     "metadata": {},
     "output_type": "execute_result"
    }
   ],
   "source": [
    "# коэффициент детерминации\n",
    "r2_score(y_test, y_pred)"
   ]
  },
  {
   "cell_type": "markdown",
   "id": "784ca2b7",
   "metadata": {},
   "source": [
    "Пробуем предсказать два разных целевых значения, по одному, на одном и том же наборе входных параметров"
   ]
  },
  {
   "cell_type": "code",
   "execution_count": 27,
   "id": "52277c44",
   "metadata": {},
   "outputs": [],
   "source": [
    "# попробуем предсказать отдельно глубину и ширину\n",
    "# trying to predict width and depth separately\n",
    "\n",
    "y_depth = y[:,0]"
   ]
  },
  {
   "cell_type": "code",
   "execution_count": 28,
   "id": "873a7386",
   "metadata": {},
   "outputs": [
    {
     "data": {
      "text/plain": [
       "array([1.6 , 1.62, 1.68, 1.58, 1.76, 1.72, 1.64, 1.64, 1.2 , 1.2 , 1.16,\n",
       "       1.2 , 0.98, 1.02, 1.04, 1.  , 1.2 , 1.  , 1.2 , 1.16, 1.12, 1.08,\n",
       "       1.2 , 1.08, 0.96, 0.96, 0.92, 0.94, 1.36, 1.36, 1.4 , 1.36, 0.84,\n",
       "       0.86, 0.88, 0.8 , 0.84, 0.84, 0.8 , 0.8 , 1.12, 1.22, 1.12, 1.18,\n",
       "       1.28, 1.36, 1.36, 1.24, 1.28, 1.32, 1.24, 1.32, 1.08, 1.08, 1.08,\n",
       "       1.08, 1.2 , 1.2 , 1.2 , 1.2 , 1.2 , 1.24, 1.2 , 1.24, 1.16, 1.2 ,\n",
       "       1.24, 1.2 , 1.36, 1.28, 1.28, 1.32])"
      ]
     },
     "execution_count": 28,
     "metadata": {},
     "output_type": "execute_result"
    }
   ],
   "source": [
    "y_depth"
   ]
  },
  {
   "cell_type": "code",
   "execution_count": 29,
   "id": "079c49cb",
   "metadata": {},
   "outputs": [],
   "source": [
    "y_width = y[:, 1]"
   ]
  },
  {
   "cell_type": "code",
   "execution_count": 30,
   "id": "43b77946",
   "metadata": {},
   "outputs": [
    {
     "data": {
      "text/plain": [
       "array([2.54, 2.5 , 2.6 , 2.52, 2.48, 2.48, 2.52, 2.56, 2.  , 1.96, 1.96,\n",
       "       1.96, 1.84, 1.84, 1.9 , 1.86, 1.78, 1.84, 1.86, 1.8 , 1.71, 1.68,\n",
       "       1.8 , 1.72, 2.  , 1.94, 1.86, 1.94, 2.52, 2.48, 2.48, 2.48, 2.16,\n",
       "       2.08, 2.  , 2.04, 2.28, 2.24, 2.24, 2.28, 1.76, 1.82, 1.8 , 1.78,\n",
       "       1.8 , 1.76, 1.76, 1.76, 1.8 , 1.84, 1.8 , 1.96, 1.8 , 1.82, 1.82,\n",
       "       1.82, 1.76, 1.86, 1.88, 1.76, 1.76, 1.8 , 1.72, 1.78, 1.76, 1.68,\n",
       "       1.72, 1.72, 1.76, 1.76, 1.76, 1.76])"
      ]
     },
     "execution_count": 30,
     "metadata": {},
     "output_type": "execute_result"
    }
   ],
   "source": [
    "y_width"
   ]
  },
  {
   "cell_type": "code",
   "execution_count": 31,
   "id": "fe6064c0",
   "metadata": {},
   "outputs": [],
   "source": [
    "X_train_depth, X_test_depth, y_train_depth, y_test_depth = train_test_split(X_scaled, y_depth, test_size=0.2, shuffle=True)"
   ]
  },
  {
   "cell_type": "code",
   "execution_count": 32,
   "id": "e99dc2f7",
   "metadata": {},
   "outputs": [],
   "source": [
    "X_train_width, X_test_width, y_train_width, y_test_width = train_test_split(X_scaled, y_width, test_size=0.2, shuffle=True)"
   ]
  },
  {
   "cell_type": "code",
   "execution_count": 33,
   "id": "a5beee50",
   "metadata": {},
   "outputs": [],
   "source": [
    "depthLinModel = LinearRegression().fit(X_train_depth, y_train_depth)"
   ]
  },
  {
   "cell_type": "code",
   "execution_count": 34,
   "id": "c36e8ca1",
   "metadata": {},
   "outputs": [],
   "source": [
    "widthLinMocel = LinearRegression().fit(X_train_width, y_train_width)"
   ]
  },
  {
   "cell_type": "code",
   "execution_count": 35,
   "id": "c559fed6",
   "metadata": {},
   "outputs": [],
   "source": [
    "depth_pred = depthLinModel.predict(X_test_depth)"
   ]
  },
  {
   "cell_type": "code",
   "execution_count": 36,
   "id": "20e208ca",
   "metadata": {},
   "outputs": [],
   "source": [
    "width_pred = widthLinMocel.predict(X_test_width)"
   ]
  },
  {
   "cell_type": "code",
   "execution_count": 37,
   "id": "a651657f",
   "metadata": {},
   "outputs": [
    {
     "data": {
      "text/plain": [
       "(array([1.24029159, 1.58406292, 1.24029159, 1.09174927, 1.21836791,\n",
       "        1.19808972, 1.17059898, 1.10942177, 1.24029159, 1.25796409,\n",
       "        0.92817734, 0.81089366, 0.81089366, 1.01255691, 1.01255691]),\n",
       " array([1.2 , 1.4 , 1.24, 1.04, 1.24, 1.18, 1.08, 1.  , 1.32, 1.32, 0.92,\n",
       "        0.8 , 0.84, 1.08, 1.2 ]))"
      ]
     },
     "execution_count": 37,
     "metadata": {},
     "output_type": "execute_result"
    }
   ],
   "source": [
    "depth_pred, y_test_depth"
   ]
  },
  {
   "cell_type": "code",
   "execution_count": 38,
   "id": "a64eb9bd",
   "metadata": {},
   "outputs": [
    {
     "data": {
      "text/plain": [
       "(array([1.81191374, 2.33380416, 1.77269272, 1.81191374, 1.81191374,\n",
       "        1.55523717, 2.0252277 , 2.33380416, 1.55523717, 2.50806805,\n",
       "        1.55523717, 1.55523717, 1.77269272, 2.0252277 , 1.79994751]),\n",
       " array([1.76, 2.24, 1.9 , 1.8 , 1.72, 1.71, 2.08, 2.28, 1.72, 2.5 , 1.68,\n",
       "        1.8 , 1.84, 2.04, 1.82]))"
      ]
     },
     "execution_count": 38,
     "metadata": {},
     "output_type": "execute_result"
    }
   ],
   "source": [
    "width_pred, y_test_width"
   ]
  },
  {
   "cell_type": "code",
   "execution_count": 39,
   "id": "aa073d30",
   "metadata": {},
   "outputs": [
    {
     "data": {
      "text/plain": [
       "(0.7987504203546814, 0.867569128452399)"
      ]
     },
     "execution_count": 39,
     "metadata": {},
     "output_type": "execute_result"
    }
   ],
   "source": [
    "# серьезного улучшения точности не видно\n",
    "# no meaningfull improvements in predictions\n",
    "r2_score(depth_pred, y_test_depth), r2_score(width_pred, y_test_width)"
   ]
  },
  {
   "cell_type": "markdown",
   "id": "61ed8b98",
   "metadata": {},
   "source": [
    "Серьезного увеличения точности предсказания не отмечено"
   ]
  },
  {
   "cell_type": "markdown",
   "id": "ef6708ae",
   "metadata": {},
   "source": [
    "Добавляем еще одну мощную модель машинного обучения из ансамблей - случайный лес из решающих деревьев"
   ]
  },
  {
   "cell_type": "code",
   "execution_count": 40,
   "id": "fe290c9d",
   "metadata": {},
   "outputs": [],
   "source": [
    "forest_model = RandomForestRegressor()"
   ]
  },
  {
   "cell_type": "code",
   "execution_count": 41,
   "id": "4d297565",
   "metadata": {},
   "outputs": [
    {
     "data": {
      "text/html": [
       "<style>#sk-container-id-1 {color: black;background-color: white;}#sk-container-id-1 pre{padding: 0;}#sk-container-id-1 div.sk-toggleable {background-color: white;}#sk-container-id-1 label.sk-toggleable__label {cursor: pointer;display: block;width: 100%;margin-bottom: 0;padding: 0.3em;box-sizing: border-box;text-align: center;}#sk-container-id-1 label.sk-toggleable__label-arrow:before {content: \"▸\";float: left;margin-right: 0.25em;color: #696969;}#sk-container-id-1 label.sk-toggleable__label-arrow:hover:before {color: black;}#sk-container-id-1 div.sk-estimator:hover label.sk-toggleable__label-arrow:before {color: black;}#sk-container-id-1 div.sk-toggleable__content {max-height: 0;max-width: 0;overflow: hidden;text-align: left;background-color: #f0f8ff;}#sk-container-id-1 div.sk-toggleable__content pre {margin: 0.2em;color: black;border-radius: 0.25em;background-color: #f0f8ff;}#sk-container-id-1 input.sk-toggleable__control:checked~div.sk-toggleable__content {max-height: 200px;max-width: 100%;overflow: auto;}#sk-container-id-1 input.sk-toggleable__control:checked~label.sk-toggleable__label-arrow:before {content: \"▾\";}#sk-container-id-1 div.sk-estimator input.sk-toggleable__control:checked~label.sk-toggleable__label {background-color: #d4ebff;}#sk-container-id-1 div.sk-label input.sk-toggleable__control:checked~label.sk-toggleable__label {background-color: #d4ebff;}#sk-container-id-1 input.sk-hidden--visually {border: 0;clip: rect(1px 1px 1px 1px);clip: rect(1px, 1px, 1px, 1px);height: 1px;margin: -1px;overflow: hidden;padding: 0;position: absolute;width: 1px;}#sk-container-id-1 div.sk-estimator {font-family: monospace;background-color: #f0f8ff;border: 1px dotted black;border-radius: 0.25em;box-sizing: border-box;margin-bottom: 0.5em;}#sk-container-id-1 div.sk-estimator:hover {background-color: #d4ebff;}#sk-container-id-1 div.sk-parallel-item::after {content: \"\";width: 100%;border-bottom: 1px solid gray;flex-grow: 1;}#sk-container-id-1 div.sk-label:hover label.sk-toggleable__label {background-color: #d4ebff;}#sk-container-id-1 div.sk-serial::before {content: \"\";position: absolute;border-left: 1px solid gray;box-sizing: border-box;top: 0;bottom: 0;left: 50%;z-index: 0;}#sk-container-id-1 div.sk-serial {display: flex;flex-direction: column;align-items: center;background-color: white;padding-right: 0.2em;padding-left: 0.2em;position: relative;}#sk-container-id-1 div.sk-item {position: relative;z-index: 1;}#sk-container-id-1 div.sk-parallel {display: flex;align-items: stretch;justify-content: center;background-color: white;position: relative;}#sk-container-id-1 div.sk-item::before, #sk-container-id-1 div.sk-parallel-item::before {content: \"\";position: absolute;border-left: 1px solid gray;box-sizing: border-box;top: 0;bottom: 0;left: 50%;z-index: -1;}#sk-container-id-1 div.sk-parallel-item {display: flex;flex-direction: column;z-index: 1;position: relative;background-color: white;}#sk-container-id-1 div.sk-parallel-item:first-child::after {align-self: flex-end;width: 50%;}#sk-container-id-1 div.sk-parallel-item:last-child::after {align-self: flex-start;width: 50%;}#sk-container-id-1 div.sk-parallel-item:only-child::after {width: 0;}#sk-container-id-1 div.sk-dashed-wrapped {border: 1px dashed gray;margin: 0 0.4em 0.5em 0.4em;box-sizing: border-box;padding-bottom: 0.4em;background-color: white;}#sk-container-id-1 div.sk-label label {font-family: monospace;font-weight: bold;display: inline-block;line-height: 1.2em;}#sk-container-id-1 div.sk-label-container {text-align: center;}#sk-container-id-1 div.sk-container {/* jupyter's `normalize.less` sets `[hidden] { display: none; }` but bootstrap.min.css set `[hidden] { display: none !important; }` so we also need the `!important` here to be able to override the default hidden behavior on the sphinx rendered scikit-learn.org. See: https://github.com/scikit-learn/scikit-learn/issues/21755 */display: inline-block !important;position: relative;}#sk-container-id-1 div.sk-text-repr-fallback {display: none;}</style><div id=\"sk-container-id-1\" class=\"sk-top-container\"><div class=\"sk-text-repr-fallback\"><pre>RandomForestRegressor()</pre><b>In a Jupyter environment, please rerun this cell to show the HTML representation or trust the notebook. <br />On GitHub, the HTML representation is unable to render, please try loading this page with nbviewer.org.</b></div><div class=\"sk-container\" hidden><div class=\"sk-item\"><div class=\"sk-estimator sk-toggleable\"><input class=\"sk-toggleable__control sk-hidden--visually\" id=\"sk-estimator-id-1\" type=\"checkbox\" checked><label for=\"sk-estimator-id-1\" class=\"sk-toggleable__label sk-toggleable__label-arrow\">RandomForestRegressor</label><div class=\"sk-toggleable__content\"><pre>RandomForestRegressor()</pre></div></div></div></div></div>"
      ],
      "text/plain": [
       "RandomForestRegressor()"
      ]
     },
     "execution_count": 41,
     "metadata": {},
     "output_type": "execute_result"
    }
   ],
   "source": [
    "# обучаем\n",
    "forest_model.fit(X_train, y_train)"
   ]
  },
  {
   "cell_type": "code",
   "execution_count": 42,
   "id": "efefd890",
   "metadata": {},
   "outputs": [],
   "source": [
    "# сохраняем\n",
    "pickle.dump(forest_model, open('forest_model.pkl', 'wb'))"
   ]
  },
  {
   "cell_type": "code",
   "execution_count": 43,
   "id": "31c194d2",
   "metadata": {},
   "outputs": [],
   "source": [
    "y_pred = forest_model.predict(X_test)"
   ]
  },
  {
   "cell_type": "code",
   "execution_count": 44,
   "id": "cba75538",
   "metadata": {},
   "outputs": [
    {
     "data": {
      "text/plain": [
       "array([[1.16770357, 1.80760357],\n",
       "       [1.10758167, 1.717605  ],\n",
       "       [1.21168476, 1.75360762],\n",
       "       [1.40975908, 2.49486799],\n",
       "       [1.03806857, 1.86770857],\n",
       "       [0.81360476, 2.25845714],\n",
       "       [1.40975908, 2.49486799],\n",
       "       [1.16770357, 1.80760357],\n",
       "       [1.29388984, 1.77141556],\n",
       "       [1.19066667, 1.96688381],\n",
       "       [1.10758167, 1.717605  ],\n",
       "       [1.40975908, 2.49486799],\n",
       "       [1.16770357, 1.80760357],\n",
       "       [1.03806857, 1.86770857],\n",
       "       [1.18290095, 1.81287984]])"
      ]
     },
     "execution_count": 44,
     "metadata": {},
     "output_type": "execute_result"
    }
   ],
   "source": [
    "y_pred"
   ]
  },
  {
   "cell_type": "code",
   "execution_count": 45,
   "id": "ba795cdd",
   "metadata": {},
   "outputs": [
    {
     "data": {
      "text/plain": [
       "array([[1.12, 1.8 ],\n",
       "       [1.08, 1.72],\n",
       "       [1.24, 1.8 ],\n",
       "       [1.6 , 2.54],\n",
       "       [1.02, 1.84],\n",
       "       [0.84, 2.24],\n",
       "       [1.68, 2.6 ],\n",
       "       [1.12, 1.76],\n",
       "       [1.36, 1.76],\n",
       "       [1.16, 1.96],\n",
       "       [1.2 , 1.8 ],\n",
       "       [1.62, 2.5 ],\n",
       "       [1.22, 1.82],\n",
       "       [0.98, 1.84],\n",
       "       [1.  , 1.84]])"
      ]
     },
     "execution_count": 45,
     "metadata": {},
     "output_type": "execute_result"
    }
   ],
   "source": [
    "y_test"
   ]
  },
  {
   "cell_type": "code",
   "execution_count": 46,
   "id": "979cfc5a",
   "metadata": {},
   "outputs": [
    {
     "data": {
      "text/plain": [
       "0.6901393830296093"
      ]
     },
     "execution_count": 46,
     "metadata": {},
     "output_type": "execute_result"
    }
   ],
   "source": [
    "# коэф детерминации приличный\n",
    "r2_score(y_pred, y_test)"
   ]
  },
  {
   "cell_type": "code",
   "execution_count": 47,
   "id": "73ad54b1",
   "metadata": {},
   "outputs": [
    {
     "data": {
      "text/plain": [
       "(0.06074758393458425, 0.00804338737699156)"
      ]
     },
     "execution_count": 47,
     "metadata": {},
     "output_type": "execute_result"
    }
   ],
   "source": [
    "mean_absolute_error(y_pred, y_test), mean_squared_error(y_pred, y_test)"
   ]
  },
  {
   "cell_type": "markdown",
   "id": "63af1f1a",
   "metadata": {},
   "source": [
    "Решающий лес показывает высокую точность предсказания даже на параметрах по умолчанию. Однако, возможно переобучение на текущем датасете в виду сложности применяемого инструмента по сравнению с размерами набора данных."
   ]
  },
  {
   "cell_type": "markdown",
   "id": "12485f82",
   "metadata": {},
   "source": [
    "### Модель Ridge и GridSearchCV"
   ]
  },
  {
   "cell_type": "markdown",
   "id": "3b8634d1",
   "metadata": {},
   "source": [
    "Попробуем еще одну линейную модель - Ридж или гребневая регрессия. Для ее оптимальной работы требуется найти лучший или хотя бы достаточной хороший коэффициент альфа (или лямбда). Буду делать это с помощью инструмента GridSearchCV. В него передаётся модель машинного обучения и список параметров для проверки качества."
   ]
  },
  {
   "cell_type": "code",
   "execution_count": 48,
   "id": "3f97b6ff",
   "metadata": {},
   "outputs": [],
   "source": [
    "from sklearn.linear_model import Ridge\n",
    "from sklearn.model_selection import GridSearchCV"
   ]
  },
  {
   "cell_type": "code",
   "execution_count": 49,
   "id": "0a3d3d37",
   "metadata": {},
   "outputs": [],
   "source": [
    "# создадим список возможны значений альфа от 0.001 до 10 с шагом 0.001\n",
    "# possible alpha values list from 0.001 to 10 with step 0.001\n",
    "parameters = {'alpha': np.arange(0.001, 10, 0.001)}"
   ]
  },
  {
   "cell_type": "code",
   "execution_count": 50,
   "id": "7da684a5",
   "metadata": {},
   "outputs": [],
   "source": [
    "model = Ridge()\n",
    "# Ищем наилучший результат при разных значения альфа для метрики отрицательная среднеквадр. ошибка, кросс валидация 5-fold\n",
    "# finding best alphas for negative MSE metrics with 5-fold cross-validation\n",
    "ridge_reg = GridSearchCV(model, parameters, scoring='neg_mean_squared_error', cv=5)"
   ]
  },
  {
   "cell_type": "code",
   "execution_count": 51,
   "id": "21845d32",
   "metadata": {},
   "outputs": [
    {
     "data": {
      "text/html": [
       "<style>#sk-container-id-2 {color: black;background-color: white;}#sk-container-id-2 pre{padding: 0;}#sk-container-id-2 div.sk-toggleable {background-color: white;}#sk-container-id-2 label.sk-toggleable__label {cursor: pointer;display: block;width: 100%;margin-bottom: 0;padding: 0.3em;box-sizing: border-box;text-align: center;}#sk-container-id-2 label.sk-toggleable__label-arrow:before {content: \"▸\";float: left;margin-right: 0.25em;color: #696969;}#sk-container-id-2 label.sk-toggleable__label-arrow:hover:before {color: black;}#sk-container-id-2 div.sk-estimator:hover label.sk-toggleable__label-arrow:before {color: black;}#sk-container-id-2 div.sk-toggleable__content {max-height: 0;max-width: 0;overflow: hidden;text-align: left;background-color: #f0f8ff;}#sk-container-id-2 div.sk-toggleable__content pre {margin: 0.2em;color: black;border-radius: 0.25em;background-color: #f0f8ff;}#sk-container-id-2 input.sk-toggleable__control:checked~div.sk-toggleable__content {max-height: 200px;max-width: 100%;overflow: auto;}#sk-container-id-2 input.sk-toggleable__control:checked~label.sk-toggleable__label-arrow:before {content: \"▾\";}#sk-container-id-2 div.sk-estimator input.sk-toggleable__control:checked~label.sk-toggleable__label {background-color: #d4ebff;}#sk-container-id-2 div.sk-label input.sk-toggleable__control:checked~label.sk-toggleable__label {background-color: #d4ebff;}#sk-container-id-2 input.sk-hidden--visually {border: 0;clip: rect(1px 1px 1px 1px);clip: rect(1px, 1px, 1px, 1px);height: 1px;margin: -1px;overflow: hidden;padding: 0;position: absolute;width: 1px;}#sk-container-id-2 div.sk-estimator {font-family: monospace;background-color: #f0f8ff;border: 1px dotted black;border-radius: 0.25em;box-sizing: border-box;margin-bottom: 0.5em;}#sk-container-id-2 div.sk-estimator:hover {background-color: #d4ebff;}#sk-container-id-2 div.sk-parallel-item::after {content: \"\";width: 100%;border-bottom: 1px solid gray;flex-grow: 1;}#sk-container-id-2 div.sk-label:hover label.sk-toggleable__label {background-color: #d4ebff;}#sk-container-id-2 div.sk-serial::before {content: \"\";position: absolute;border-left: 1px solid gray;box-sizing: border-box;top: 0;bottom: 0;left: 50%;z-index: 0;}#sk-container-id-2 div.sk-serial {display: flex;flex-direction: column;align-items: center;background-color: white;padding-right: 0.2em;padding-left: 0.2em;position: relative;}#sk-container-id-2 div.sk-item {position: relative;z-index: 1;}#sk-container-id-2 div.sk-parallel {display: flex;align-items: stretch;justify-content: center;background-color: white;position: relative;}#sk-container-id-2 div.sk-item::before, #sk-container-id-2 div.sk-parallel-item::before {content: \"\";position: absolute;border-left: 1px solid gray;box-sizing: border-box;top: 0;bottom: 0;left: 50%;z-index: -1;}#sk-container-id-2 div.sk-parallel-item {display: flex;flex-direction: column;z-index: 1;position: relative;background-color: white;}#sk-container-id-2 div.sk-parallel-item:first-child::after {align-self: flex-end;width: 50%;}#sk-container-id-2 div.sk-parallel-item:last-child::after {align-self: flex-start;width: 50%;}#sk-container-id-2 div.sk-parallel-item:only-child::after {width: 0;}#sk-container-id-2 div.sk-dashed-wrapped {border: 1px dashed gray;margin: 0 0.4em 0.5em 0.4em;box-sizing: border-box;padding-bottom: 0.4em;background-color: white;}#sk-container-id-2 div.sk-label label {font-family: monospace;font-weight: bold;display: inline-block;line-height: 1.2em;}#sk-container-id-2 div.sk-label-container {text-align: center;}#sk-container-id-2 div.sk-container {/* jupyter's `normalize.less` sets `[hidden] { display: none; }` but bootstrap.min.css set `[hidden] { display: none !important; }` so we also need the `!important` here to be able to override the default hidden behavior on the sphinx rendered scikit-learn.org. See: https://github.com/scikit-learn/scikit-learn/issues/21755 */display: inline-block !important;position: relative;}#sk-container-id-2 div.sk-text-repr-fallback {display: none;}</style><div id=\"sk-container-id-2\" class=\"sk-top-container\"><div class=\"sk-text-repr-fallback\"><pre>GridSearchCV(cv=5, estimator=Ridge(),\n",
       "             param_grid={&#x27;alpha&#x27;: array([1.000e-03, 2.000e-03, 3.000e-03, ..., 9.997e+00, 9.998e+00,\n",
       "       9.999e+00])},\n",
       "             scoring=&#x27;neg_mean_squared_error&#x27;)</pre><b>In a Jupyter environment, please rerun this cell to show the HTML representation or trust the notebook. <br />On GitHub, the HTML representation is unable to render, please try loading this page with nbviewer.org.</b></div><div class=\"sk-container\" hidden><div class=\"sk-item sk-dashed-wrapped\"><div class=\"sk-label-container\"><div class=\"sk-label sk-toggleable\"><input class=\"sk-toggleable__control sk-hidden--visually\" id=\"sk-estimator-id-2\" type=\"checkbox\" ><label for=\"sk-estimator-id-2\" class=\"sk-toggleable__label sk-toggleable__label-arrow\">GridSearchCV</label><div class=\"sk-toggleable__content\"><pre>GridSearchCV(cv=5, estimator=Ridge(),\n",
       "             param_grid={&#x27;alpha&#x27;: array([1.000e-03, 2.000e-03, 3.000e-03, ..., 9.997e+00, 9.998e+00,\n",
       "       9.999e+00])},\n",
       "             scoring=&#x27;neg_mean_squared_error&#x27;)</pre></div></div></div><div class=\"sk-parallel\"><div class=\"sk-parallel-item\"><div class=\"sk-item\"><div class=\"sk-label-container\"><div class=\"sk-label sk-toggleable\"><input class=\"sk-toggleable__control sk-hidden--visually\" id=\"sk-estimator-id-3\" type=\"checkbox\" ><label for=\"sk-estimator-id-3\" class=\"sk-toggleable__label sk-toggleable__label-arrow\">estimator: Ridge</label><div class=\"sk-toggleable__content\"><pre>Ridge()</pre></div></div></div><div class=\"sk-serial\"><div class=\"sk-item\"><div class=\"sk-estimator sk-toggleable\"><input class=\"sk-toggleable__control sk-hidden--visually\" id=\"sk-estimator-id-4\" type=\"checkbox\" ><label for=\"sk-estimator-id-4\" class=\"sk-toggleable__label sk-toggleable__label-arrow\">Ridge</label><div class=\"sk-toggleable__content\"><pre>Ridge()</pre></div></div></div></div></div></div></div></div></div></div>"
      ],
      "text/plain": [
       "GridSearchCV(cv=5, estimator=Ridge(),\n",
       "             param_grid={'alpha': array([1.000e-03, 2.000e-03, 3.000e-03, ..., 9.997e+00, 9.998e+00,\n",
       "       9.999e+00])},\n",
       "             scoring='neg_mean_squared_error')"
      ]
     },
     "execution_count": 51,
     "metadata": {},
     "output_type": "execute_result"
    }
   ],
   "source": [
    "# тренируем на всем отмасштабированном датасете\n",
    "# fitting on all scaled dataset\n",
    "ridge_reg.fit(X_scaled, y)"
   ]
  },
  {
   "cell_type": "code",
   "execution_count": 52,
   "id": "b83ffe48",
   "metadata": {},
   "outputs": [
    {
     "data": {
      "text/html": [
       "<style>#sk-container-id-3 {color: black;background-color: white;}#sk-container-id-3 pre{padding: 0;}#sk-container-id-3 div.sk-toggleable {background-color: white;}#sk-container-id-3 label.sk-toggleable__label {cursor: pointer;display: block;width: 100%;margin-bottom: 0;padding: 0.3em;box-sizing: border-box;text-align: center;}#sk-container-id-3 label.sk-toggleable__label-arrow:before {content: \"▸\";float: left;margin-right: 0.25em;color: #696969;}#sk-container-id-3 label.sk-toggleable__label-arrow:hover:before {color: black;}#sk-container-id-3 div.sk-estimator:hover label.sk-toggleable__label-arrow:before {color: black;}#sk-container-id-3 div.sk-toggleable__content {max-height: 0;max-width: 0;overflow: hidden;text-align: left;background-color: #f0f8ff;}#sk-container-id-3 div.sk-toggleable__content pre {margin: 0.2em;color: black;border-radius: 0.25em;background-color: #f0f8ff;}#sk-container-id-3 input.sk-toggleable__control:checked~div.sk-toggleable__content {max-height: 200px;max-width: 100%;overflow: auto;}#sk-container-id-3 input.sk-toggleable__control:checked~label.sk-toggleable__label-arrow:before {content: \"▾\";}#sk-container-id-3 div.sk-estimator input.sk-toggleable__control:checked~label.sk-toggleable__label {background-color: #d4ebff;}#sk-container-id-3 div.sk-label input.sk-toggleable__control:checked~label.sk-toggleable__label {background-color: #d4ebff;}#sk-container-id-3 input.sk-hidden--visually {border: 0;clip: rect(1px 1px 1px 1px);clip: rect(1px, 1px, 1px, 1px);height: 1px;margin: -1px;overflow: hidden;padding: 0;position: absolute;width: 1px;}#sk-container-id-3 div.sk-estimator {font-family: monospace;background-color: #f0f8ff;border: 1px dotted black;border-radius: 0.25em;box-sizing: border-box;margin-bottom: 0.5em;}#sk-container-id-3 div.sk-estimator:hover {background-color: #d4ebff;}#sk-container-id-3 div.sk-parallel-item::after {content: \"\";width: 100%;border-bottom: 1px solid gray;flex-grow: 1;}#sk-container-id-3 div.sk-label:hover label.sk-toggleable__label {background-color: #d4ebff;}#sk-container-id-3 div.sk-serial::before {content: \"\";position: absolute;border-left: 1px solid gray;box-sizing: border-box;top: 0;bottom: 0;left: 50%;z-index: 0;}#sk-container-id-3 div.sk-serial {display: flex;flex-direction: column;align-items: center;background-color: white;padding-right: 0.2em;padding-left: 0.2em;position: relative;}#sk-container-id-3 div.sk-item {position: relative;z-index: 1;}#sk-container-id-3 div.sk-parallel {display: flex;align-items: stretch;justify-content: center;background-color: white;position: relative;}#sk-container-id-3 div.sk-item::before, #sk-container-id-3 div.sk-parallel-item::before {content: \"\";position: absolute;border-left: 1px solid gray;box-sizing: border-box;top: 0;bottom: 0;left: 50%;z-index: -1;}#sk-container-id-3 div.sk-parallel-item {display: flex;flex-direction: column;z-index: 1;position: relative;background-color: white;}#sk-container-id-3 div.sk-parallel-item:first-child::after {align-self: flex-end;width: 50%;}#sk-container-id-3 div.sk-parallel-item:last-child::after {align-self: flex-start;width: 50%;}#sk-container-id-3 div.sk-parallel-item:only-child::after {width: 0;}#sk-container-id-3 div.sk-dashed-wrapped {border: 1px dashed gray;margin: 0 0.4em 0.5em 0.4em;box-sizing: border-box;padding-bottom: 0.4em;background-color: white;}#sk-container-id-3 div.sk-label label {font-family: monospace;font-weight: bold;display: inline-block;line-height: 1.2em;}#sk-container-id-3 div.sk-label-container {text-align: center;}#sk-container-id-3 div.sk-container {/* jupyter's `normalize.less` sets `[hidden] { display: none; }` but bootstrap.min.css set `[hidden] { display: none !important; }` so we also need the `!important` here to be able to override the default hidden behavior on the sphinx rendered scikit-learn.org. See: https://github.com/scikit-learn/scikit-learn/issues/21755 */display: inline-block !important;position: relative;}#sk-container-id-3 div.sk-text-repr-fallback {display: none;}</style><div id=\"sk-container-id-3\" class=\"sk-top-container\"><div class=\"sk-text-repr-fallback\"><pre>Ridge(alpha=0.001)</pre><b>In a Jupyter environment, please rerun this cell to show the HTML representation or trust the notebook. <br />On GitHub, the HTML representation is unable to render, please try loading this page with nbviewer.org.</b></div><div class=\"sk-container\" hidden><div class=\"sk-item\"><div class=\"sk-estimator sk-toggleable\"><input class=\"sk-toggleable__control sk-hidden--visually\" id=\"sk-estimator-id-5\" type=\"checkbox\" checked><label for=\"sk-estimator-id-5\" class=\"sk-toggleable__label sk-toggleable__label-arrow\">Ridge</label><div class=\"sk-toggleable__content\"><pre>Ridge(alpha=0.001)</pre></div></div></div></div></div>"
      ],
      "text/plain": [
       "Ridge(alpha=0.001)"
      ]
     },
     "execution_count": 52,
     "metadata": {},
     "output_type": "execute_result"
    }
   ],
   "source": [
    "# лучшая модель\n",
    "# best model\n",
    "ridge_reg.best_estimator_"
   ]
  },
  {
   "cell_type": "code",
   "execution_count": 53,
   "id": "faf5ebeb",
   "metadata": {},
   "outputs": [],
   "source": [
    "ridge_model = ridge_reg.best_estimator_"
   ]
  },
  {
   "cell_type": "code",
   "execution_count": 54,
   "id": "61208458",
   "metadata": {},
   "outputs": [
    {
     "data": {
      "text/html": [
       "<style>#sk-container-id-4 {color: black;background-color: white;}#sk-container-id-4 pre{padding: 0;}#sk-container-id-4 div.sk-toggleable {background-color: white;}#sk-container-id-4 label.sk-toggleable__label {cursor: pointer;display: block;width: 100%;margin-bottom: 0;padding: 0.3em;box-sizing: border-box;text-align: center;}#sk-container-id-4 label.sk-toggleable__label-arrow:before {content: \"▸\";float: left;margin-right: 0.25em;color: #696969;}#sk-container-id-4 label.sk-toggleable__label-arrow:hover:before {color: black;}#sk-container-id-4 div.sk-estimator:hover label.sk-toggleable__label-arrow:before {color: black;}#sk-container-id-4 div.sk-toggleable__content {max-height: 0;max-width: 0;overflow: hidden;text-align: left;background-color: #f0f8ff;}#sk-container-id-4 div.sk-toggleable__content pre {margin: 0.2em;color: black;border-radius: 0.25em;background-color: #f0f8ff;}#sk-container-id-4 input.sk-toggleable__control:checked~div.sk-toggleable__content {max-height: 200px;max-width: 100%;overflow: auto;}#sk-container-id-4 input.sk-toggleable__control:checked~label.sk-toggleable__label-arrow:before {content: \"▾\";}#sk-container-id-4 div.sk-estimator input.sk-toggleable__control:checked~label.sk-toggleable__label {background-color: #d4ebff;}#sk-container-id-4 div.sk-label input.sk-toggleable__control:checked~label.sk-toggleable__label {background-color: #d4ebff;}#sk-container-id-4 input.sk-hidden--visually {border: 0;clip: rect(1px 1px 1px 1px);clip: rect(1px, 1px, 1px, 1px);height: 1px;margin: -1px;overflow: hidden;padding: 0;position: absolute;width: 1px;}#sk-container-id-4 div.sk-estimator {font-family: monospace;background-color: #f0f8ff;border: 1px dotted black;border-radius: 0.25em;box-sizing: border-box;margin-bottom: 0.5em;}#sk-container-id-4 div.sk-estimator:hover {background-color: #d4ebff;}#sk-container-id-4 div.sk-parallel-item::after {content: \"\";width: 100%;border-bottom: 1px solid gray;flex-grow: 1;}#sk-container-id-4 div.sk-label:hover label.sk-toggleable__label {background-color: #d4ebff;}#sk-container-id-4 div.sk-serial::before {content: \"\";position: absolute;border-left: 1px solid gray;box-sizing: border-box;top: 0;bottom: 0;left: 50%;z-index: 0;}#sk-container-id-4 div.sk-serial {display: flex;flex-direction: column;align-items: center;background-color: white;padding-right: 0.2em;padding-left: 0.2em;position: relative;}#sk-container-id-4 div.sk-item {position: relative;z-index: 1;}#sk-container-id-4 div.sk-parallel {display: flex;align-items: stretch;justify-content: center;background-color: white;position: relative;}#sk-container-id-4 div.sk-item::before, #sk-container-id-4 div.sk-parallel-item::before {content: \"\";position: absolute;border-left: 1px solid gray;box-sizing: border-box;top: 0;bottom: 0;left: 50%;z-index: -1;}#sk-container-id-4 div.sk-parallel-item {display: flex;flex-direction: column;z-index: 1;position: relative;background-color: white;}#sk-container-id-4 div.sk-parallel-item:first-child::after {align-self: flex-end;width: 50%;}#sk-container-id-4 div.sk-parallel-item:last-child::after {align-self: flex-start;width: 50%;}#sk-container-id-4 div.sk-parallel-item:only-child::after {width: 0;}#sk-container-id-4 div.sk-dashed-wrapped {border: 1px dashed gray;margin: 0 0.4em 0.5em 0.4em;box-sizing: border-box;padding-bottom: 0.4em;background-color: white;}#sk-container-id-4 div.sk-label label {font-family: monospace;font-weight: bold;display: inline-block;line-height: 1.2em;}#sk-container-id-4 div.sk-label-container {text-align: center;}#sk-container-id-4 div.sk-container {/* jupyter's `normalize.less` sets `[hidden] { display: none; }` but bootstrap.min.css set `[hidden] { display: none !important; }` so we also need the `!important` here to be able to override the default hidden behavior on the sphinx rendered scikit-learn.org. See: https://github.com/scikit-learn/scikit-learn/issues/21755 */display: inline-block !important;position: relative;}#sk-container-id-4 div.sk-text-repr-fallback {display: none;}</style><div id=\"sk-container-id-4\" class=\"sk-top-container\"><div class=\"sk-text-repr-fallback\"><pre>Ridge(alpha=0.001)</pre><b>In a Jupyter environment, please rerun this cell to show the HTML representation or trust the notebook. <br />On GitHub, the HTML representation is unable to render, please try loading this page with nbviewer.org.</b></div><div class=\"sk-container\" hidden><div class=\"sk-item\"><div class=\"sk-estimator sk-toggleable\"><input class=\"sk-toggleable__control sk-hidden--visually\" id=\"sk-estimator-id-6\" type=\"checkbox\" checked><label for=\"sk-estimator-id-6\" class=\"sk-toggleable__label sk-toggleable__label-arrow\">Ridge</label><div class=\"sk-toggleable__content\"><pre>Ridge(alpha=0.001)</pre></div></div></div></div></div>"
      ],
      "text/plain": [
       "Ridge(alpha=0.001)"
      ]
     },
     "execution_count": 54,
     "metadata": {},
     "output_type": "execute_result"
    }
   ],
   "source": [
    "# обучаем модель на тренировочной выборке\n",
    "# fitting best model on train split\n",
    "ridge_model.fit(X_train, y_train)"
   ]
  },
  {
   "cell_type": "code",
   "execution_count": 55,
   "id": "717e489d",
   "metadata": {},
   "outputs": [],
   "source": [
    "y_pred = ridge_model.predict(X_test)"
   ]
  },
  {
   "cell_type": "code",
   "execution_count": 56,
   "id": "53649ff8",
   "metadata": {},
   "outputs": [
    {
     "data": {
      "text/plain": [
       "array([[1.20021957, 1.83107588],\n",
       "       [1.02353709, 1.59596581],\n",
       "       [1.23995978, 1.78761434],\n",
       "       [1.54588272, 2.49187247],\n",
       "       [1.11356352, 1.78978434],\n",
       "       [0.8524545 , 2.31752774],\n",
       "       [1.54588272, 2.49187247],\n",
       "       [1.20021957, 1.83107588],\n",
       "       [1.20148052, 1.74013599],\n",
       "       [1.290246  , 2.02489441],\n",
       "       [1.02353709, 1.59596581],\n",
       "       [1.54588272, 2.49187247],\n",
       "       [1.20021957, 1.83107588],\n",
       "       [1.11356352, 1.78978434],\n",
       "       [1.11683049, 1.81449979]])"
      ]
     },
     "execution_count": 56,
     "metadata": {},
     "output_type": "execute_result"
    }
   ],
   "source": [
    "y_pred"
   ]
  },
  {
   "cell_type": "code",
   "execution_count": 57,
   "id": "189494b0",
   "metadata": {},
   "outputs": [
    {
     "data": {
      "text/plain": [
       "array([[1.12, 1.8 ],\n",
       "       [1.08, 1.72],\n",
       "       [1.24, 1.8 ],\n",
       "       [1.6 , 2.54],\n",
       "       [1.02, 1.84],\n",
       "       [0.84, 2.24],\n",
       "       [1.68, 2.6 ],\n",
       "       [1.12, 1.76],\n",
       "       [1.36, 1.76],\n",
       "       [1.16, 1.96],\n",
       "       [1.2 , 1.8 ],\n",
       "       [1.62, 2.5 ],\n",
       "       [1.22, 1.82],\n",
       "       [0.98, 1.84],\n",
       "       [1.  , 1.84]])"
      ]
     },
     "execution_count": 57,
     "metadata": {},
     "output_type": "execute_result"
    }
   ],
   "source": [
    "y_test"
   ]
  },
  {
   "cell_type": "code",
   "execution_count": 58,
   "id": "4dff3619",
   "metadata": {},
   "outputs": [
    {
     "data": {
      "text/plain": [
       "(0.8306116135656166, 0.07423323096042375, 0.008339346347572513)"
      ]
     },
     "execution_count": 58,
     "metadata": {},
     "output_type": "execute_result"
    }
   ],
   "source": [
    "# показатели качества\n",
    "# model quality\n",
    "r2_score(y_pred, y_test), mean_absolute_error(y_pred, y_test), mean_squared_error(y_pred, y_test)"
   ]
  },
  {
   "cell_type": "markdown",
   "id": "652d5716",
   "metadata": {},
   "source": [
    "Произведенные действия показывают, что точность модели сопоставима с линейной регрессией. Вероятно есть относительно простая линейная зависимость между входными параметрами и выходными данными. В готовом приложении буду использовать только линейную регрессию и случайный лес для данного конкретного датасета."
   ]
  },
  {
   "cell_type": "markdown",
   "id": "eff02b49",
   "metadata": {},
   "source": [
    "## Нейронная сеть / neural network"
   ]
  },
  {
   "cell_type": "markdown",
   "id": "14cb3772",
   "metadata": {},
   "source": [
    "Архитектура нейронной сети на keras представляет собой модель Sequential с тремя полносвязными слоями. Активационными функциями relu и сигмоиды. \n",
    "<br>\n",
    "Функция потерь - средняя абсолютная ошибка, метрика - точность, оптимизатор Adam - метод стохастического градиентного спуска со скоростью обучения 0.001"
   ]
  },
  {
   "cell_type": "code",
   "execution_count": 59,
   "id": "4327c386",
   "metadata": {},
   "outputs": [],
   "source": [
    "NN_model = tf.keras.models.Sequential([\n",
    "    tf.keras.layers.Dense(units=64, activation='relu'),\n",
    "    tf.keras.layers.Dense(units=100, activation='sigmoid'),\n",
    "    tf.keras.layers.Dense(units=2)\n",
    "])\n",
    "\n",
    "NN_model.compile(loss=tf.keras.losses.mean_absolute_error,\n",
    "                optimizer=tf.keras.optimizers.Adam(0.001),\n",
    "                metrics=['accuracy'])\n"
   ]
  },
  {
   "cell_type": "markdown",
   "id": "78b007db",
   "metadata": {},
   "source": [
    "Архитектура нейронной сети была подобрана экспериментально, функция relu как стандарт для задач регрессии по материалам обучения, сигмоида добавлена для создания элемента нелинейности. Количество нейронов на выходном слое соответствует числу прогнозируемых данных (Width и Depth). Число нейронов на двух других слоях подобрано как минимально возможное для высокого качества модели на обучающих данных в условиях конкретной реализации. При уменьшении числа нейронов точность предсказания значительно падает, при увеличении - заметного роста не наблюдается."
   ]
  },
  {
   "cell_type": "code",
   "execution_count": 60,
   "id": "c33d54b6",
   "metadata": {},
   "outputs": [
    {
     "name": "stdout",
     "output_type": "stream",
     "text": [
      "Epoch 1/40\n",
      "3/3 [==============================] - 2s 224ms/step - loss: 1.2980 - accuracy: 0.3333 - val_loss: 1.1670 - val_accuracy: 0.2667\n",
      "Epoch 2/40\n",
      "3/3 [==============================] - 0s 16ms/step - loss: 1.0827 - accuracy: 0.3333 - val_loss: 0.9625 - val_accuracy: 0.2000\n",
      "Epoch 3/40\n",
      "3/3 [==============================] - 0s 25ms/step - loss: 0.8693 - accuracy: 0.2222 - val_loss: 0.7695 - val_accuracy: 0.2000\n",
      "Epoch 4/40\n",
      "3/3 [==============================] - 0s 44ms/step - loss: 0.6840 - accuracy: 0.2778 - val_loss: 0.5875 - val_accuracy: 0.2667\n",
      "Epoch 5/40\n",
      "3/3 [==============================] - 0s 40ms/step - loss: 0.5313 - accuracy: 0.3472 - val_loss: 0.4687 - val_accuracy: 0.4667\n",
      "Epoch 6/40\n",
      "3/3 [==============================] - 0s 41ms/step - loss: 0.4196 - accuracy: 0.6667 - val_loss: 0.3686 - val_accuracy: 1.0000\n",
      "Epoch 7/40\n",
      "3/3 [==============================] - 0s 36ms/step - loss: 0.3171 - accuracy: 1.0000 - val_loss: 0.2628 - val_accuracy: 1.0000\n",
      "Epoch 8/40\n",
      "3/3 [==============================] - 0s 40ms/step - loss: 0.2336 - accuracy: 1.0000 - val_loss: 0.1922 - val_accuracy: 1.0000\n",
      "Epoch 9/40\n",
      "3/3 [==============================] - 0s 42ms/step - loss: 0.2111 - accuracy: 1.0000 - val_loss: 0.1608 - val_accuracy: 1.0000\n",
      "Epoch 10/40\n",
      "3/3 [==============================] - 0s 31ms/step - loss: 0.2017 - accuracy: 1.0000 - val_loss: 0.1554 - val_accuracy: 1.0000\n",
      "Epoch 11/40\n",
      "3/3 [==============================] - 0s 51ms/step - loss: 0.1992 - accuracy: 1.0000 - val_loss: 0.1553 - val_accuracy: 1.0000\n",
      "Epoch 12/40\n",
      "3/3 [==============================] - 0s 22ms/step - loss: 0.1943 - accuracy: 1.0000 - val_loss: 0.1423 - val_accuracy: 1.0000\n",
      "Epoch 13/40\n",
      "3/3 [==============================] - 0s 45ms/step - loss: 0.1724 - accuracy: 1.0000 - val_loss: 0.1158 - val_accuracy: 1.0000\n",
      "Epoch 14/40\n",
      "3/3 [==============================] - 0s 40ms/step - loss: 0.1405 - accuracy: 1.0000 - val_loss: 0.0993 - val_accuracy: 1.0000\n",
      "Epoch 15/40\n",
      "3/3 [==============================] - 0s 37ms/step - loss: 0.1205 - accuracy: 1.0000 - val_loss: 0.0911 - val_accuracy: 1.0000\n",
      "Epoch 16/40\n",
      "3/3 [==============================] - 0s 44ms/step - loss: 0.1008 - accuracy: 1.0000 - val_loss: 0.0893 - val_accuracy: 1.0000\n",
      "Epoch 17/40\n",
      "3/3 [==============================] - 0s 33ms/step - loss: 0.0896 - accuracy: 1.0000 - val_loss: 0.0894 - val_accuracy: 1.0000\n",
      "Epoch 18/40\n",
      "3/3 [==============================] - 0s 27ms/step - loss: 0.0851 - accuracy: 1.0000 - val_loss: 0.0845 - val_accuracy: 1.0000\n",
      "Epoch 19/40\n",
      "3/3 [==============================] - 0s 34ms/step - loss: 0.0823 - accuracy: 1.0000 - val_loss: 0.0774 - val_accuracy: 1.0000\n",
      "Epoch 20/40\n",
      "3/3 [==============================] - 0s 28ms/step - loss: 0.0786 - accuracy: 1.0000 - val_loss: 0.0694 - val_accuracy: 1.0000\n",
      "Epoch 21/40\n",
      "3/3 [==============================] - 0s 33ms/step - loss: 0.0767 - accuracy: 1.0000 - val_loss: 0.0650 - val_accuracy: 1.0000\n",
      "Epoch 22/40\n",
      "3/3 [==============================] - 0s 21ms/step - loss: 0.0735 - accuracy: 1.0000 - val_loss: 0.0612 - val_accuracy: 1.0000\n",
      "Epoch 23/40\n",
      "3/3 [==============================] - 0s 32ms/step - loss: 0.0683 - accuracy: 1.0000 - val_loss: 0.0626 - val_accuracy: 1.0000\n",
      "Epoch 24/40\n",
      "3/3 [==============================] - 0s 34ms/step - loss: 0.0659 - accuracy: 1.0000 - val_loss: 0.0628 - val_accuracy: 1.0000\n",
      "Epoch 25/40\n",
      "3/3 [==============================] - 0s 32ms/step - loss: 0.0641 - accuracy: 1.0000 - val_loss: 0.0578 - val_accuracy: 1.0000\n",
      "Epoch 26/40\n",
      "3/3 [==============================] - 0s 33ms/step - loss: 0.0612 - accuracy: 1.0000 - val_loss: 0.0536 - val_accuracy: 1.0000\n",
      "Epoch 27/40\n",
      "3/3 [==============================] - 0s 50ms/step - loss: 0.0613 - accuracy: 1.0000 - val_loss: 0.0538 - val_accuracy: 1.0000\n",
      "Epoch 28/40\n",
      "3/3 [==============================] - 0s 39ms/step - loss: 0.0598 - accuracy: 1.0000 - val_loss: 0.0535 - val_accuracy: 1.0000\n",
      "Epoch 29/40\n",
      "3/3 [==============================] - 0s 35ms/step - loss: 0.0579 - accuracy: 1.0000 - val_loss: 0.0548 - val_accuracy: 1.0000\n",
      "Epoch 30/40\n",
      "3/3 [==============================] - 0s 31ms/step - loss: 0.0594 - accuracy: 1.0000 - val_loss: 0.0523 - val_accuracy: 1.0000\n",
      "Epoch 31/40\n",
      "3/3 [==============================] - 0s 30ms/step - loss: 0.0571 - accuracy: 1.0000 - val_loss: 0.0521 - val_accuracy: 1.0000\n",
      "Epoch 32/40\n",
      "3/3 [==============================] - 0s 30ms/step - loss: 0.0572 - accuracy: 1.0000 - val_loss: 0.0504 - val_accuracy: 1.0000\n",
      "Epoch 33/40\n",
      "3/3 [==============================] - 0s 37ms/step - loss: 0.0537 - accuracy: 1.0000 - val_loss: 0.0533 - val_accuracy: 1.0000\n",
      "Epoch 34/40\n",
      "3/3 [==============================] - 0s 23ms/step - loss: 0.0560 - accuracy: 1.0000 - val_loss: 0.0563 - val_accuracy: 1.0000\n",
      "Epoch 35/40\n",
      "3/3 [==============================] - 0s 26ms/step - loss: 0.0544 - accuracy: 1.0000 - val_loss: 0.0486 - val_accuracy: 1.0000\n",
      "Epoch 36/40\n",
      "3/3 [==============================] - 0s 26ms/step - loss: 0.0523 - accuracy: 1.0000 - val_loss: 0.0495 - val_accuracy: 1.0000\n",
      "Epoch 37/40\n",
      "3/3 [==============================] - 0s 34ms/step - loss: 0.0540 - accuracy: 1.0000 - val_loss: 0.0465 - val_accuracy: 1.0000\n",
      "Epoch 38/40\n",
      "3/3 [==============================] - 0s 57ms/step - loss: 0.0514 - accuracy: 1.0000 - val_loss: 0.0452 - val_accuracy: 1.0000\n",
      "Epoch 39/40\n",
      "3/3 [==============================] - 0s 31ms/step - loss: 0.0502 - accuracy: 1.0000 - val_loss: 0.0447 - val_accuracy: 1.0000\n",
      "Epoch 40/40\n",
      "3/3 [==============================] - 0s 43ms/step - loss: 0.0492 - accuracy: 1.0000 - val_loss: 0.0453 - val_accuracy: 1.0000\n"
     ]
    }
   ],
   "source": [
    "# обучение нейросети \n",
    "# neural net fitting\n",
    "history = NN_model.fit(\n",
    "    X_scaled,\n",
    "    y,\n",
    "    epochs=40,\n",
    "    verbose=1,\n",
    "    validation_data=(X_test,y_test)\n",
    ")"
   ]
  },
  {
   "cell_type": "markdown",
   "id": "5bf825b4",
   "metadata": {},
   "source": [
    "Нейронная сеть обучалась на всём имеющемся отмасштабированном массиве данных в связи с малым размером датасета. Число эпох = 40 также было подобрано экспериментально на нескольких прогонах, при уменьшении числа эпох точность теряется, при увеличении незначительно растёт, но есть риск переобучения."
   ]
  },
  {
   "cell_type": "code",
   "execution_count": 61,
   "id": "7bfcb016",
   "metadata": {},
   "outputs": [
    {
     "data": {
      "image/png": "[encoded data removed]",
      "text/plain": [
       "<Figure size 432x288 with 1 Axes>"
      ]
     },
     "metadata": {
      "needs_background": "light"
     },
     "output_type": "display_data"
    }
   ],
   "source": [
    "# визуализация\n",
    "# training visualization\n",
    "plt.title('Обучение')\n",
    "plt.xlabel('epochs')\n",
    "plt.ylabel('Cross_entropy')\n",
    "plt.plot(history.history['loss'], label='train')\n",
    "plt.plot(history.history['val_loss'], label='validation')\n",
    "plt.legend()\n",
    "plt.show()"
   ]
  },
  {
   "cell_type": "markdown",
   "id": "5cca7819",
   "metadata": {},
   "source": [
    "Выше представлена визуализация значений функции потерь в зависимости от числа эпох на тренировочной и тестовой выборках. Можно увидеть что нейросеть обучилось достаточно"
   ]
  },
  {
   "cell_type": "code",
   "execution_count": 62,
   "id": "7bdf93a2",
   "metadata": {},
   "outputs": [
    {
     "name": "stdout",
     "output_type": "stream",
     "text": [
      "1/1 [==============================] - 0s 147ms/step\n"
     ]
    }
   ],
   "source": [
    "y_pred = NN_model.predict(X_test)"
   ]
  },
  {
   "cell_type": "code",
   "execution_count": 63,
   "id": "216726aa",
   "metadata": {},
   "outputs": [
    {
     "data": {
      "text/plain": [
       "array([[1.162202  , 1.7963536 ],\n",
       "       [1.1730106 , 1.8107169 ],\n",
       "       [1.196178  , 1.8065368 ],\n",
       "       [1.5794317 , 2.5195289 ],\n",
       "       [1.0671949 , 1.804353  ],\n",
       "       [0.83469146, 2.274628  ],\n",
       "       [1.5794317 , 2.5195289 ],\n",
       "       [1.162202  , 1.7963536 ],\n",
       "       [1.280205  , 1.7776142 ],\n",
       "       [1.2058266 , 1.9726802 ],\n",
       "       [1.1730106 , 1.8107169 ],\n",
       "       [1.5794317 , 2.5195289 ],\n",
       "       [1.162202  , 1.7963536 ],\n",
       "       [1.0671949 , 1.804353  ],\n",
       "       [1.1317985 , 1.7730582 ]], dtype=float32)"
      ]
     },
     "execution_count": 63,
     "metadata": {},
     "output_type": "execute_result"
    }
   ],
   "source": [
    "y_pred"
   ]
  },
  {
   "cell_type": "code",
   "execution_count": 64,
   "id": "08794b53",
   "metadata": {},
   "outputs": [
    {
     "data": {
      "text/plain": [
       "array([[1.12, 1.8 ],\n",
       "       [1.08, 1.72],\n",
       "       [1.24, 1.8 ],\n",
       "       [1.6 , 2.54],\n",
       "       [1.02, 1.84],\n",
       "       [0.84, 2.24],\n",
       "       [1.68, 2.6 ],\n",
       "       [1.12, 1.76],\n",
       "       [1.36, 1.76],\n",
       "       [1.16, 1.96],\n",
       "       [1.2 , 1.8 ],\n",
       "       [1.62, 2.5 ],\n",
       "       [1.22, 1.82],\n",
       "       [0.98, 1.84],\n",
       "       [1.  , 1.84]])"
      ]
     },
     "execution_count": 64,
     "metadata": {},
     "output_type": "execute_result"
    }
   ],
   "source": [
    "y_test"
   ]
  },
  {
   "cell_type": "code",
   "execution_count": 65,
   "id": "77ec4dee",
   "metadata": {},
   "outputs": [
    {
     "data": {
      "text/plain": [
       "0.00307772936577577"
      ]
     },
     "execution_count": 65,
     "metadata": {},
     "output_type": "execute_result"
    }
   ],
   "source": [
    "mean_squared_error(y_test, y_pred)"
   ]
  },
  {
   "cell_type": "code",
   "execution_count": 66,
   "id": "2390d6ad",
   "metadata": {},
   "outputs": [
    {
     "data": {
      "text/plain": [
       "(0.04533646368980408, 0.9525104676738922)"
      ]
     },
     "execution_count": 66,
     "metadata": {},
     "output_type": "execute_result"
    }
   ],
   "source": [
    "# средняя абс ошибка и коэф детерминации\n",
    "# MAE and R2 coef\n",
    "mean_absolute_error(y_test, y_pred), r2_score(y_test, y_pred)"
   ]
  },
  {
   "cell_type": "code",
   "execution_count": 67,
   "id": "183c6fa1",
   "metadata": {},
   "outputs": [
    {
     "data": {
      "text/plain": [
       "array([[ 0.2       , -0.06523281,  0.66502222,  0.07808688]])"
      ]
     },
     "execution_count": 67,
     "metadata": {},
     "output_type": "execute_result"
    }
   ],
   "source": [
    "# тестируем возможный пользовательский ввод на примерах из датасета\n",
    "# testing possible user inputs on dataset examples\n",
    "scaler.transform(np.array([[46., 141., 10.0, 80.]]))"
   ]
  },
  {
   "cell_type": "code",
   "execution_count": 68,
   "id": "a2b09fab",
   "metadata": {},
   "outputs": [
    {
     "data": {
      "text/plain": [
       "(array([ 0.2       , -0.06523281,  0.66502222,  0.07808688]),\n",
       " array([1.16, 1.8 ]))"
      ]
     },
     "execution_count": 68,
     "metadata": {},
     "output_type": "execute_result"
    }
   ],
   "source": [
    "# сравниваем\n",
    "# compare\n",
    "X_scaled[19], y[19]"
   ]
  },
  {
   "cell_type": "code",
   "execution_count": 69,
   "id": "22b3d2c0",
   "metadata": {},
   "outputs": [
    {
     "name": "stdout",
     "output_type": "stream",
     "text": [
      "1/1 [==============================] - 0s 47ms/step\n"
     ]
    },
    {
     "data": {
      "text/plain": [
       "array([[1.1317986, 1.7730582]], dtype=float32)"
      ]
     },
     "execution_count": 69,
     "metadata": {},
     "output_type": "execute_result"
    }
   ],
   "source": [
    "NN_model.predict(scaler.transform(np.array([[46., 141., 10.0, 80.]])))"
   ]
  },
  {
   "cell_type": "code",
   "execution_count": 70,
   "id": "8e4c44b7",
   "metadata": {},
   "outputs": [
    {
     "name": "stdout",
     "output_type": "stream",
     "text": [
      "1/1 [==============================] - 0s 33ms/step\n"
     ]
    },
    {
     "data": {
      "text/plain": [
       "array([[0.9352949, 2.0190754]], dtype=float32)"
      ]
     },
     "execution_count": 70,
     "metadata": {},
     "output_type": "execute_result"
    }
   ],
   "source": [
    "NN_model.predict(scaler.transform(np.array([[47., 134., 10.0, 110.]])))"
   ]
  },
  {
   "cell_type": "code",
   "execution_count": 71,
   "id": "e6e1d065",
   "metadata": {},
   "outputs": [
    {
     "data": {
      "text/plain": [
       "(array([ 0.8       , -1.43512176,  0.66502222,  1.48365074]),\n",
       " array([0.94, 1.94]))"
      ]
     },
     "execution_count": 71,
     "metadata": {},
     "output_type": "execute_result"
    }
   ],
   "source": [
    "X_scaled[27], y[27]"
   ]
  },
  {
   "cell_type": "code",
   "execution_count": 72,
   "id": "c0630a45",
   "metadata": {},
   "outputs": [
    {
     "name": "stdout",
     "output_type": "stream",
     "text": [
      "INFO:tensorflow:Assets written to: nn_model\\assets\n"
     ]
    }
   ],
   "source": [
    "# сохраняем средствами keras для будущего использования\n",
    "# save for future use\n",
    "NN_model.save('nn_model')"
   ]
  },
  {
   "cell_type": "code",
   "execution_count": 73,
   "id": "3c56bb09",
   "metadata": {},
   "outputs": [],
   "source": [
    "# тест загрузки сохраненной модели\n",
    "# test if it loads ok\n",
    "loaded_model = tf.keras.models.load_model('nn_model')"
   ]
  },
  {
   "cell_type": "code",
   "execution_count": 74,
   "id": "c261ffc3",
   "metadata": {},
   "outputs": [
    {
     "name": "stdout",
     "output_type": "stream",
     "text": [
      "1/1 [==============================] - 0s 94ms/step\n"
     ]
    },
    {
     "data": {
      "text/plain": [
       "array([[0.9352949, 2.0190754]], dtype=float32)"
      ]
     },
     "execution_count": 74,
     "metadata": {},
     "output_type": "execute_result"
    }
   ],
   "source": [
    "# тест предсказаний\n",
    "# prediction test\n",
    "loaded_model.predict(scaler.transform(np.array([[47., 134., 10.0, 110.]])))"
   ]
  },
  {
   "cell_type": "markdown",
   "id": "5c3fd388",
   "metadata": {},
   "source": [
    "По итогам представленной выше работы можно сделать вывод о том, что удалось применить несколько моделей машинного обучения на исходном датасете, сохранить их для дальнейшего использования, и получить результаты с установленной точностью."
   ]
  }
 ],
 "metadata": {
  "kernelspec": {
   "display_name": "Python 3.9.12 ('base')",
   "language": "python",
   "name": "python3"
  },
  "language_info": {
   "codemirror_mode": {
    "name": "ipython",
    "version": 3
   },
   "file_extension": ".py",
   "mimetype": "text/x-python",
   "name": "python",
   "nbconvert_exporter": "python",
   "pygments_lexer": "ipython3",
   "version": "3.9.12"
  },
  "vscode": {
   "interpreter": {
    "hash": "f93f7fc699c83ec640b4631e79e58bbb61ccebd87d61f066314faecce3a6a175"
   }
  }
 },
 "nbformat": 4,
 "nbformat_minor": 5
}
